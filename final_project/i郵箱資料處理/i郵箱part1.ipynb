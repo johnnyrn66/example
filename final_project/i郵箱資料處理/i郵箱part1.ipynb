{
 "cells": [
  {
   "cell_type": "markdown",
   "metadata": {},
   "source": [
    "# 作業四至作業六:郵務資料分析"
   ]
  },
  {
   "cell_type": "markdown",
   "metadata": {},
   "source": [
    "### 分析目的:i郵箱為中華郵政公司提供一種新型態的/寄郵件體驗，其特色在於可以配合收、寄件人用郵時間，因此不需要在營業時間到郵局領取郵件或是在家等待郵差。此份作業期望能透過不同欄位的資料獲取關鍵的訊息。\n",
    "#### 使用資料:郵務收寄資料明細檔(經過與特種郵件追蹤查詢資料檔比對篩選出只有投遞到i郵箱的資料)共8808筆資料\n",
    "#### 欄位介紹請參考[中華郵政大數據競賽資料欄位規格.xlsx]"
   ]
  },
  {
   "cell_type": "code",
   "execution_count": 2,
   "metadata": {},
   "outputs": [],
   "source": [
    "#call magic function\n",
    "%matplotlib inline\n",
    "from collections import Counter\n",
    "import matplotlib\n",
    "import matplotlib.pyplot as plt\n",
    "from wordcloud import WordCloud,ImageColorGenerator\n",
    "import jieba\n",
    "import pandas as pd\n",
    "import numpy as np\n",
    "import math\n",
    "\n",
    "plt.rcParams['font.sans-serif'] = ['Microsoft JhengHei']\n",
    "plt.rcParams['axes.unicode_minus'] = False"
   ]
  },
  {
   "cell_type": "markdown",
   "metadata": {},
   "source": [
    "讀取i郵箱資料"
   ]
  },
  {
   "cell_type": "code",
   "execution_count": 3,
   "metadata": {
    "scrolled": false
   },
   "outputs": [
    {
     "data": {
      "text/html": [
       "<div>\n",
       "<style scoped>\n",
       "    .dataframe tbody tr th:only-of-type {\n",
       "        vertical-align: middle;\n",
       "    }\n",
       "\n",
       "    .dataframe tbody tr th {\n",
       "        vertical-align: top;\n",
       "    }\n",
       "\n",
       "    .dataframe thead th {\n",
       "        text-align: right;\n",
       "    }\n",
       "</style>\n",
       "<table border=\"1\" class=\"dataframe\">\n",
       "  <thead>\n",
       "    <tr style=\"text-align: right;\">\n",
       "      <th></th>\n",
       "      <th>acc1</th>\n",
       "      <th>acc2</th>\n",
       "      <th>acc3</th>\n",
       "      <th>acc4</th>\n",
       "      <th>acc5</th>\n",
       "      <th>acc6</th>\n",
       "      <th>acc7</th>\n",
       "      <th>acc8</th>\n",
       "      <th>acc9</th>\n",
       "      <th>acc10</th>\n",
       "      <th>...</th>\n",
       "      <th>acc29</th>\n",
       "      <th>acc30</th>\n",
       "      <th>acc31</th>\n",
       "      <th>acc32</th>\n",
       "      <th>acc33</th>\n",
       "      <th>acc34</th>\n",
       "      <th>acc35</th>\n",
       "      <th>acc36</th>\n",
       "      <th>acc37</th>\n",
       "      <th>acc38</th>\n",
       "    </tr>\n",
       "  </thead>\n",
       "  <tbody>\n",
       "    <tr>\n",
       "      <th>0</th>\n",
       "      <td>400030.0</td>\n",
       "      <td>0</td>\n",
       "      <td>1</td>\n",
       "      <td>1</td>\n",
       "      <td>0</td>\n",
       "      <td>1070102</td>\n",
       "      <td>84717</td>\n",
       "      <td>400999</td>\n",
       "      <td>NaN</td>\n",
       "      <td>0</td>\n",
       "      <td>...</td>\n",
       "      <td>1</td>\n",
       "      <td>1</td>\n",
       "      <td>833.0</td>\n",
       "      <td>1</td>\n",
       "      <td>2.336630e+13</td>\n",
       "      <td>2.336630e+13</td>\n",
       "      <td>NaN</td>\n",
       "      <td>NaN</td>\n",
       "      <td>10701</td>\n",
       "      <td>1</td>\n",
       "    </tr>\n",
       "    <tr>\n",
       "      <th>1</th>\n",
       "      <td>100010.0</td>\n",
       "      <td>0</td>\n",
       "      <td>1</td>\n",
       "      <td>1</td>\n",
       "      <td>0</td>\n",
       "      <td>1070102</td>\n",
       "      <td>91245</td>\n",
       "      <td>100999</td>\n",
       "      <td>NaN</td>\n",
       "      <td>0</td>\n",
       "      <td>...</td>\n",
       "      <td>3</td>\n",
       "      <td>1</td>\n",
       "      <td>40.0</td>\n",
       "      <td>1</td>\n",
       "      <td>9.837500e+19</td>\n",
       "      <td>9.837500e+19</td>\n",
       "      <td>41.0</td>\n",
       "      <td>F</td>\n",
       "      <td>10701</td>\n",
       "      <td>1</td>\n",
       "    </tr>\n",
       "    <tr>\n",
       "      <th>2</th>\n",
       "      <td>900022.0</td>\n",
       "      <td>0</td>\n",
       "      <td>1</td>\n",
       "      <td>1</td>\n",
       "      <td>0</td>\n",
       "      <td>1070102</td>\n",
       "      <td>93753</td>\n",
       "      <td>900999</td>\n",
       "      <td>NaN</td>\n",
       "      <td>0</td>\n",
       "      <td>...</td>\n",
       "      <td>1</td>\n",
       "      <td>1</td>\n",
       "      <td>12.0</td>\n",
       "      <td>1</td>\n",
       "      <td>9.763060e+19</td>\n",
       "      <td>9.763060e+19</td>\n",
       "      <td>NaN</td>\n",
       "      <td>NaN</td>\n",
       "      <td>10701</td>\n",
       "      <td>1</td>\n",
       "    </tr>\n",
       "    <tr>\n",
       "      <th>3</th>\n",
       "      <td>320043.0</td>\n",
       "      <td>0</td>\n",
       "      <td>1</td>\n",
       "      <td>1</td>\n",
       "      <td>0</td>\n",
       "      <td>1070102</td>\n",
       "      <td>95002</td>\n",
       "      <td>330999</td>\n",
       "      <td>NaN</td>\n",
       "      <td>0</td>\n",
       "      <td>...</td>\n",
       "      <td>1</td>\n",
       "      <td>1</td>\n",
       "      <td>20.0</td>\n",
       "      <td>1</td>\n",
       "      <td>9.526220e+19</td>\n",
       "      <td>9.526220e+19</td>\n",
       "      <td>NaN</td>\n",
       "      <td>NaN</td>\n",
       "      <td>10701</td>\n",
       "      <td>1</td>\n",
       "    </tr>\n",
       "    <tr>\n",
       "      <th>4</th>\n",
       "      <td>330012.0</td>\n",
       "      <td>0</td>\n",
       "      <td>1</td>\n",
       "      <td>1</td>\n",
       "      <td>0</td>\n",
       "      <td>1070102</td>\n",
       "      <td>100634</td>\n",
       "      <td>330999</td>\n",
       "      <td>NaN</td>\n",
       "      <td>0</td>\n",
       "      <td>...</td>\n",
       "      <td>5</td>\n",
       "      <td>1</td>\n",
       "      <td>1853.0</td>\n",
       "      <td>1</td>\n",
       "      <td>6.964050e+13</td>\n",
       "      <td>6.964050e+13</td>\n",
       "      <td>52.0</td>\n",
       "      <td>F</td>\n",
       "      <td>10701</td>\n",
       "      <td>1</td>\n",
       "    </tr>\n",
       "  </tbody>\n",
       "</table>\n",
       "<p>5 rows × 38 columns</p>\n",
       "</div>"
      ],
      "text/plain": [
       "       acc1  acc2  acc3  acc4  acc5     acc6    acc7    acc8  acc9  acc10  \\\n",
       "0  400030.0     0     1     1     0  1070102   84717  400999   NaN      0   \n",
       "1  100010.0     0     1     1     0  1070102   91245  100999   NaN      0   \n",
       "2  900022.0     0     1     1     0  1070102   93753  900999   NaN      0   \n",
       "3  320043.0     0     1     1     0  1070102   95002  330999   NaN      0   \n",
       "4  330012.0     0     1     1     0  1070102  100634  330999   NaN      0   \n",
       "\n",
       "   ...  acc29  acc30   acc31  acc32         acc33         acc34  acc35  acc36  \\\n",
       "0  ...      1      1   833.0      1  2.336630e+13  2.336630e+13    NaN    NaN   \n",
       "1  ...      3      1    40.0      1  9.837500e+19  9.837500e+19   41.0      F   \n",
       "2  ...      1      1    12.0      1  9.763060e+19  9.763060e+19    NaN    NaN   \n",
       "3  ...      1      1    20.0      1  9.526220e+19  9.526220e+19    NaN    NaN   \n",
       "4  ...      5      1  1853.0      1  6.964050e+13  6.964050e+13   52.0      F   \n",
       "\n",
       "   acc37  acc38  \n",
       "0  10701      1  \n",
       "1  10701      1  \n",
       "2  10701      1  \n",
       "3  10701      1  \n",
       "4  10701      1  \n",
       "\n",
       "[5 rows x 38 columns]"
      ]
     },
     "execution_count": 3,
     "metadata": {},
     "output_type": "execute_result"
    }
   ],
   "source": [
    "accg3=pd.read_csv(\"D:/competition/sample/ACC_G3_FINAL.csv\",header=None,encoding='BIG5')\n",
    "accg3.columns=[\"acc\"+str(i) for i in range(1,39) ]\n",
    "accg3.head()"
   ]
  },
  {
   "cell_type": "markdown",
   "metadata": {},
   "source": [
    "檢查每一欄缺失值，若使用某一欄變數有缺失值需要修正"
   ]
  },
  {
   "cell_type": "code",
   "execution_count": 4,
   "metadata": {
    "scrolled": true
   },
   "outputs": [
    {
     "name": "stdout",
     "output_type": "stream",
     "text": [
      "acc1        0\n",
      "acc2        0\n",
      "acc3        0\n",
      "acc4        0\n",
      "acc5        0\n",
      "acc6        0\n",
      "acc7        0\n",
      "acc8        0\n",
      "acc9     8800\n",
      "acc10       0\n",
      "acc11       0\n",
      "acc12       0\n",
      "acc13       0\n",
      "acc14       3\n",
      "acc15       0\n",
      "acc16       0\n",
      "acc17       0\n",
      "acc18       0\n",
      "acc19       0\n",
      "acc20    8805\n",
      "acc21       0\n",
      "acc22       0\n",
      "acc23       0\n",
      "acc24       0\n",
      "acc25       0\n",
      "acc26     280\n",
      "acc27       0\n",
      "acc28    2376\n",
      "acc29       0\n",
      "acc30       0\n",
      "acc31       0\n",
      "acc32       0\n",
      "acc33       0\n",
      "acc34       0\n",
      "acc35    4113\n",
      "acc36    5472\n",
      "acc37       0\n",
      "acc38       0\n",
      "dtype: int64\n"
     ]
    }
   ],
   "source": [
    "#確認每一欄缺失的個數\n",
    "print(accg3.shape[0]-accg3.count() )"
   ]
  },
  {
   "cell_type": "markdown",
   "metadata": {},
   "source": [
    "## 目標一: 研究acc27(郵件種類名稱)其文字訊息"
   ]
  },
  {
   "cell_type": "markdown",
   "metadata": {},
   "source": [
    "利用jeiba進行中文斷詞，並加入自訂義字典"
   ]
  },
  {
   "cell_type": "code",
   "execution_count": 5,
   "metadata": {},
   "outputs": [
    {
     "name": "stderr",
     "output_type": "stream",
     "text": [
      "Building prefix dict from the default dictionary ...\n",
      "Loading model from cache C:\\Users\\msi\\AppData\\Local\\Temp\\jieba.cache\n",
      "Loading model cost 0.912 seconds.\n",
      "Prefix dict has been built succesfully.\n"
     ]
    }
   ],
   "source": [
    "office_text=accg3[\"acc27\"]\n",
    "#print(office_text)\n",
    "doc_names = range(len(office_text))\n",
    "#加入自訂義字典\n",
    "jieba.load_userdict(\"C:/Users/msi/Desktop/資料科學程式設計/hw4_6/郵務字典.txt\")\n",
    "dwc = {key: [word for word in jieba.cut(text, cut_all=False)] for (key, text) in zip(doc_names, office_text)}"
   ]
  },
  {
   "cell_type": "markdown",
   "metadata": {},
   "source": [
    "顯示第一個收寄明細資料其郵件種類名稱的詞彙與對應詞頻"
   ]
  },
  {
   "cell_type": "code",
   "execution_count": 6,
   "metadata": {},
   "outputs": [
    {
     "data": {
      "text/plain": [
       "[('不同縣市', 1), ('包裹', 1)]"
      ]
     },
     "execution_count": 6,
     "metadata": {},
     "output_type": "execute_result"
    }
   ],
   "source": [
    "doc_word_frequency = {key: {i:Counter(doc)[i] for i in Counter(doc)} for key, doc in dwc.items()}\n",
    "list(doc_word_frequency[0].items())[0:10] "
   ]
  },
  {
   "cell_type": "markdown",
   "metadata": {},
   "source": [
    "建立詞頻矩陣"
   ]
  },
  {
   "cell_type": "code",
   "execution_count": 7,
   "metadata": {},
   "outputs": [
    {
     "name": "stderr",
     "output_type": "stream",
     "text": [
      "D:\\anaconda\\envs\\python36\\lib\\site-packages\\ipykernel_launcher.py:2: FutureWarning: Sorting because non-concatenation axis is not aligned. A future version\n",
      "of pandas will change to not sort by default.\n",
      "\n",
      "To accept the future behavior, pass 'sort=False'.\n",
      "\n",
      "To retain the current behavior and silence the warning, pass 'sort=True'.\n",
      "\n",
      "  \n"
     ]
    },
    {
     "data": {
      "text/html": [
       "<div>\n",
       "<style scoped>\n",
       "    .dataframe tbody tr th:only-of-type {\n",
       "        vertical-align: middle;\n",
       "    }\n",
       "\n",
       "    .dataframe tbody tr th {\n",
       "        vertical-align: top;\n",
       "    }\n",
       "\n",
       "    .dataframe thead th {\n",
       "        text-align: right;\n",
       "    }\n",
       "</style>\n",
       "<table border=\"1\" class=\"dataframe\">\n",
       "  <thead>\n",
       "    <tr style=\"text-align: right;\">\n",
       "      <th></th>\n",
       "      <th>同縣市</th>\n",
       "      <th>限時</th>\n",
       "      <th>存證</th>\n",
       "      <th>快捷</th>\n",
       "      <th>回執</th>\n",
       "      <th>紙幣</th>\n",
       "      <th>普通</th>\n",
       "      <th>國內</th>\n",
       "      <th>法定</th>\n",
       "      <th>報值</th>\n",
       "      <th>...</th>\n",
       "      <th>公件</th>\n",
       "      <th>小包</th>\n",
       "      <th>附回執</th>\n",
       "      <th>包裹</th>\n",
       "      <th>信函</th>\n",
       "      <th>明信片</th>\n",
       "      <th>不同縣市</th>\n",
       "      <th>印刷物</th>\n",
       "      <th>掛號</th>\n",
       "      <th>島嶼間互寄</th>\n",
       "    </tr>\n",
       "  </thead>\n",
       "  <tbody>\n",
       "    <tr>\n",
       "      <th>0</th>\n",
       "      <td>0.0</td>\n",
       "      <td>0.0</td>\n",
       "      <td>0.0</td>\n",
       "      <td>0.0</td>\n",
       "      <td>0.0</td>\n",
       "      <td>0.0</td>\n",
       "      <td>0.0</td>\n",
       "      <td>0.0</td>\n",
       "      <td>0.0</td>\n",
       "      <td>0.0</td>\n",
       "      <td>...</td>\n",
       "      <td>0.0</td>\n",
       "      <td>0.0</td>\n",
       "      <td>0.0</td>\n",
       "      <td>1.0</td>\n",
       "      <td>0.0</td>\n",
       "      <td>0.0</td>\n",
       "      <td>1.0</td>\n",
       "      <td>0.0</td>\n",
       "      <td>0.0</td>\n",
       "      <td>0.0</td>\n",
       "    </tr>\n",
       "    <tr>\n",
       "      <th>1</th>\n",
       "      <td>0.0</td>\n",
       "      <td>0.0</td>\n",
       "      <td>0.0</td>\n",
       "      <td>0.0</td>\n",
       "      <td>0.0</td>\n",
       "      <td>0.0</td>\n",
       "      <td>1.0</td>\n",
       "      <td>0.0</td>\n",
       "      <td>0.0</td>\n",
       "      <td>0.0</td>\n",
       "      <td>...</td>\n",
       "      <td>0.0</td>\n",
       "      <td>1.0</td>\n",
       "      <td>0.0</td>\n",
       "      <td>0.0</td>\n",
       "      <td>0.0</td>\n",
       "      <td>0.0</td>\n",
       "      <td>0.0</td>\n",
       "      <td>0.0</td>\n",
       "      <td>1.0</td>\n",
       "      <td>0.0</td>\n",
       "    </tr>\n",
       "    <tr>\n",
       "      <th>2</th>\n",
       "      <td>0.0</td>\n",
       "      <td>0.0</td>\n",
       "      <td>0.0</td>\n",
       "      <td>0.0</td>\n",
       "      <td>0.0</td>\n",
       "      <td>0.0</td>\n",
       "      <td>1.0</td>\n",
       "      <td>0.0</td>\n",
       "      <td>0.0</td>\n",
       "      <td>0.0</td>\n",
       "      <td>...</td>\n",
       "      <td>0.0</td>\n",
       "      <td>0.0</td>\n",
       "      <td>0.0</td>\n",
       "      <td>0.0</td>\n",
       "      <td>1.0</td>\n",
       "      <td>0.0</td>\n",
       "      <td>0.0</td>\n",
       "      <td>0.0</td>\n",
       "      <td>1.0</td>\n",
       "      <td>0.0</td>\n",
       "    </tr>\n",
       "    <tr>\n",
       "      <th>3</th>\n",
       "      <td>0.0</td>\n",
       "      <td>0.0</td>\n",
       "      <td>0.0</td>\n",
       "      <td>0.0</td>\n",
       "      <td>0.0</td>\n",
       "      <td>0.0</td>\n",
       "      <td>1.0</td>\n",
       "      <td>0.0</td>\n",
       "      <td>0.0</td>\n",
       "      <td>0.0</td>\n",
       "      <td>...</td>\n",
       "      <td>0.0</td>\n",
       "      <td>0.0</td>\n",
       "      <td>0.0</td>\n",
       "      <td>0.0</td>\n",
       "      <td>1.0</td>\n",
       "      <td>0.0</td>\n",
       "      <td>0.0</td>\n",
       "      <td>0.0</td>\n",
       "      <td>1.0</td>\n",
       "      <td>0.0</td>\n",
       "    </tr>\n",
       "    <tr>\n",
       "      <th>4</th>\n",
       "      <td>0.0</td>\n",
       "      <td>0.0</td>\n",
       "      <td>0.0</td>\n",
       "      <td>0.0</td>\n",
       "      <td>0.0</td>\n",
       "      <td>0.0</td>\n",
       "      <td>0.0</td>\n",
       "      <td>0.0</td>\n",
       "      <td>0.0</td>\n",
       "      <td>0.0</td>\n",
       "      <td>...</td>\n",
       "      <td>0.0</td>\n",
       "      <td>0.0</td>\n",
       "      <td>0.0</td>\n",
       "      <td>1.0</td>\n",
       "      <td>0.0</td>\n",
       "      <td>0.0</td>\n",
       "      <td>1.0</td>\n",
       "      <td>0.0</td>\n",
       "      <td>0.0</td>\n",
       "      <td>0.0</td>\n",
       "    </tr>\n",
       "  </tbody>\n",
       "</table>\n",
       "<p>5 rows × 21 columns</p>\n",
       "</div>"
      ],
      "text/plain": [
       "   同縣市   限時   存證   快捷   回執   紙幣   普通   國內   法定   報值  ...   公件   小包  附回執   包裹  \\\n",
       "0  0.0  0.0  0.0  0.0  0.0  0.0  0.0  0.0  0.0  0.0  ...  0.0  0.0  0.0  1.0   \n",
       "1  0.0  0.0  0.0  0.0  0.0  0.0  1.0  0.0  0.0  0.0  ...  0.0  1.0  0.0  0.0   \n",
       "2  0.0  0.0  0.0  0.0  0.0  0.0  1.0  0.0  0.0  0.0  ...  0.0  0.0  0.0  0.0   \n",
       "3  0.0  0.0  0.0  0.0  0.0  0.0  1.0  0.0  0.0  0.0  ...  0.0  0.0  0.0  0.0   \n",
       "4  0.0  0.0  0.0  0.0  0.0  0.0  0.0  0.0  0.0  0.0  ...  0.0  0.0  0.0  1.0   \n",
       "\n",
       "    信函  明信片  不同縣市  印刷物   掛號  島嶼間互寄  \n",
       "0  0.0  0.0   1.0  0.0  0.0    0.0  \n",
       "1  0.0  0.0   0.0  0.0  1.0    0.0  \n",
       "2  1.0  0.0   0.0  0.0  1.0    0.0  \n",
       "3  1.0  0.0   0.0  0.0  1.0    0.0  \n",
       "4  0.0  0.0   1.0  0.0  0.0    0.0  \n",
       "\n",
       "[5 rows x 21 columns]"
      ]
     },
     "execution_count": 7,
     "metadata": {},
     "output_type": "execute_result"
    }
   ],
   "source": [
    "dwf_list = [pd.DataFrame(list(doc.values()), index=doc.keys()) for doc in doc_word_frequency.values()]\n",
    "wfm = pd.concat(dwf_list, axis= 1)\n",
    "wfm = np.transpose(wfm).fillna(0)\n",
    "wfm.index = doc_word_frequency.keys()\n",
    "wfm = wfm[list(set(wfm))]\n",
    "wfm.head()"
   ]
  },
  {
   "cell_type": "markdown",
   "metadata": {},
   "source": [
    "建立TF-IDF矩陣: TF-ID單純以詞頻衡量詞的重要性，並沒有考慮詞性和詞的位置信息，但郵件種類名稱大部分為名詞為主，且詞頻是最重要的訊息，因此可以套用TF-IDF模型"
   ]
  },
  {
   "cell_type": "code",
   "execution_count": 8,
   "metadata": {
    "scrolled": true
   },
   "outputs": [
    {
     "data": {
      "text/html": [
       "<div>\n",
       "<style scoped>\n",
       "    .dataframe tbody tr th:only-of-type {\n",
       "        vertical-align: middle;\n",
       "    }\n",
       "\n",
       "    .dataframe tbody tr th {\n",
       "        vertical-align: top;\n",
       "    }\n",
       "\n",
       "    .dataframe thead th {\n",
       "        text-align: right;\n",
       "    }\n",
       "</style>\n",
       "<table border=\"1\" class=\"dataframe\">\n",
       "  <thead>\n",
       "    <tr style=\"text-align: right;\">\n",
       "      <th></th>\n",
       "      <th>同縣市</th>\n",
       "      <th>限時</th>\n",
       "      <th>存證</th>\n",
       "      <th>快捷</th>\n",
       "      <th>回執</th>\n",
       "      <th>紙幣</th>\n",
       "      <th>普通</th>\n",
       "      <th>國內</th>\n",
       "      <th>法定</th>\n",
       "      <th>報值</th>\n",
       "      <th>...</th>\n",
       "      <th>公件</th>\n",
       "      <th>小包</th>\n",
       "      <th>附回執</th>\n",
       "      <th>包裹</th>\n",
       "      <th>信函</th>\n",
       "      <th>明信片</th>\n",
       "      <th>不同縣市</th>\n",
       "      <th>印刷物</th>\n",
       "      <th>掛號</th>\n",
       "      <th>島嶼間互寄</th>\n",
       "    </tr>\n",
       "  </thead>\n",
       "  <tbody>\n",
       "    <tr>\n",
       "      <th>0</th>\n",
       "      <td>0.0</td>\n",
       "      <td>0.0</td>\n",
       "      <td>0.0</td>\n",
       "      <td>0.0</td>\n",
       "      <td>0.0</td>\n",
       "      <td>0.0</td>\n",
       "      <td>0.000000</td>\n",
       "      <td>0.0</td>\n",
       "      <td>0.0</td>\n",
       "      <td>0.0</td>\n",
       "      <td>...</td>\n",
       "      <td>0.0</td>\n",
       "      <td>0.000000</td>\n",
       "      <td>0.0</td>\n",
       "      <td>0.620649</td>\n",
       "      <td>0.000000</td>\n",
       "      <td>0.0</td>\n",
       "      <td>0.784088</td>\n",
       "      <td>0.0</td>\n",
       "      <td>0.000000</td>\n",
       "      <td>0.0</td>\n",
       "    </tr>\n",
       "    <tr>\n",
       "      <th>1</th>\n",
       "      <td>0.0</td>\n",
       "      <td>0.0</td>\n",
       "      <td>0.0</td>\n",
       "      <td>0.0</td>\n",
       "      <td>0.0</td>\n",
       "      <td>0.0</td>\n",
       "      <td>0.547584</td>\n",
       "      <td>0.0</td>\n",
       "      <td>0.0</td>\n",
       "      <td>0.0</td>\n",
       "      <td>...</td>\n",
       "      <td>0.0</td>\n",
       "      <td>0.656075</td>\n",
       "      <td>0.0</td>\n",
       "      <td>0.000000</td>\n",
       "      <td>0.000000</td>\n",
       "      <td>0.0</td>\n",
       "      <td>0.000000</td>\n",
       "      <td>0.0</td>\n",
       "      <td>0.519343</td>\n",
       "      <td>0.0</td>\n",
       "    </tr>\n",
       "    <tr>\n",
       "      <th>2</th>\n",
       "      <td>0.0</td>\n",
       "      <td>0.0</td>\n",
       "      <td>0.0</td>\n",
       "      <td>0.0</td>\n",
       "      <td>0.0</td>\n",
       "      <td>0.0</td>\n",
       "      <td>0.503492</td>\n",
       "      <td>0.0</td>\n",
       "      <td>0.0</td>\n",
       "      <td>0.0</td>\n",
       "      <td>...</td>\n",
       "      <td>0.0</td>\n",
       "      <td>0.000000</td>\n",
       "      <td>0.0</td>\n",
       "      <td>0.000000</td>\n",
       "      <td>0.720045</td>\n",
       "      <td>0.0</td>\n",
       "      <td>0.000000</td>\n",
       "      <td>0.0</td>\n",
       "      <td>0.477526</td>\n",
       "      <td>0.0</td>\n",
       "    </tr>\n",
       "    <tr>\n",
       "      <th>3</th>\n",
       "      <td>0.0</td>\n",
       "      <td>0.0</td>\n",
       "      <td>0.0</td>\n",
       "      <td>0.0</td>\n",
       "      <td>0.0</td>\n",
       "      <td>0.0</td>\n",
       "      <td>0.503492</td>\n",
       "      <td>0.0</td>\n",
       "      <td>0.0</td>\n",
       "      <td>0.0</td>\n",
       "      <td>...</td>\n",
       "      <td>0.0</td>\n",
       "      <td>0.000000</td>\n",
       "      <td>0.0</td>\n",
       "      <td>0.000000</td>\n",
       "      <td>0.720045</td>\n",
       "      <td>0.0</td>\n",
       "      <td>0.000000</td>\n",
       "      <td>0.0</td>\n",
       "      <td>0.477526</td>\n",
       "      <td>0.0</td>\n",
       "    </tr>\n",
       "    <tr>\n",
       "      <th>4</th>\n",
       "      <td>0.0</td>\n",
       "      <td>0.0</td>\n",
       "      <td>0.0</td>\n",
       "      <td>0.0</td>\n",
       "      <td>0.0</td>\n",
       "      <td>0.0</td>\n",
       "      <td>0.000000</td>\n",
       "      <td>0.0</td>\n",
       "      <td>0.0</td>\n",
       "      <td>0.0</td>\n",
       "      <td>...</td>\n",
       "      <td>0.0</td>\n",
       "      <td>0.000000</td>\n",
       "      <td>0.0</td>\n",
       "      <td>0.620649</td>\n",
       "      <td>0.000000</td>\n",
       "      <td>0.0</td>\n",
       "      <td>0.784088</td>\n",
       "      <td>0.0</td>\n",
       "      <td>0.000000</td>\n",
       "      <td>0.0</td>\n",
       "    </tr>\n",
       "  </tbody>\n",
       "</table>\n",
       "<p>5 rows × 21 columns</p>\n",
       "</div>"
      ],
      "text/plain": [
       "   同縣市   限時   存證   快捷   回執   紙幣        普通   國內   法定   報值  ...   公件        小包  \\\n",
       "0  0.0  0.0  0.0  0.0  0.0  0.0  0.000000  0.0  0.0  0.0  ...  0.0  0.000000   \n",
       "1  0.0  0.0  0.0  0.0  0.0  0.0  0.547584  0.0  0.0  0.0  ...  0.0  0.656075   \n",
       "2  0.0  0.0  0.0  0.0  0.0  0.0  0.503492  0.0  0.0  0.0  ...  0.0  0.000000   \n",
       "3  0.0  0.0  0.0  0.0  0.0  0.0  0.503492  0.0  0.0  0.0  ...  0.0  0.000000   \n",
       "4  0.0  0.0  0.0  0.0  0.0  0.0  0.000000  0.0  0.0  0.0  ...  0.0  0.000000   \n",
       "\n",
       "   附回執        包裹        信函  明信片      不同縣市  印刷物        掛號  島嶼間互寄  \n",
       "0  0.0  0.620649  0.000000  0.0  0.784088  0.0  0.000000    0.0  \n",
       "1  0.0  0.000000  0.000000  0.0  0.000000  0.0  0.519343    0.0  \n",
       "2  0.0  0.000000  0.720045  0.0  0.000000  0.0  0.477526    0.0  \n",
       "3  0.0  0.000000  0.720045  0.0  0.000000  0.0  0.477526    0.0  \n",
       "4  0.0  0.620649  0.000000  0.0  0.784088  0.0  0.000000    0.0  \n",
       "\n",
       "[5 rows x 21 columns]"
      ]
     },
     "execution_count": 8,
     "metadata": {},
     "output_type": "execute_result"
    }
   ],
   "source": [
    "from sklearn import feature_extraction\n",
    "from sklearn.feature_extraction.text import TfidfTransformer\n",
    "\n",
    "transformer = TfidfTransformer()\n",
    "tfidf_gen = transformer.fit_transform(wfm) # 產生一個 tfidf 矩陣的 generator\n",
    "df_tfidf = pd.DataFrame(tfidf_gen.toarray(), columns=wfm.columns)\n",
    "df_tfidf.head()"
   ]
  },
  {
   "cell_type": "markdown",
   "metadata": {},
   "source": [
    "畫文字雲比較詞頻矩陣和TF-IDF矩陣"
   ]
  },
  {
   "cell_type": "code",
   "execution_count": 9,
   "metadata": {
    "scrolled": false
   },
   "outputs": [
    {
     "data": {
      "image/png": "[encoded data removed]",
      "text/plain": [
       "<Figure size 432x288 with 1 Axes>"
      ]
     },
     "metadata": {
      "needs_background": "light"
     },
     "output_type": "display_data"
    },
    {
     "data": {
      "image/png": "[encoded data removed]",
      "text/plain": [
       "<Figure size 432x288 with 1 Axes>"
      ]
     },
     "metadata": {
      "needs_background": "light"
     },
     "output_type": "display_data"
    }
   ],
   "source": [
    "font = r'C:\\Windows\\Fonts\\msjhbd.ttc'\n",
    "wc= WordCloud(font_path = font,background_color=\"white\",width=1000, height=860, margin=2)                                                                                                     \n",
    "wc.generate_from_frequencies( dict(   zip(wfm.keys(),list(np.sum(wfm,axis=0))  )  ) )   \n",
    "plt.imshow(wc)\n",
    "#plt.axis(\"off\")\n",
    "plt.show()\n",
    "\n",
    "wc2= WordCloud(font_path = font,background_color=\"white\",width=1000, height=860, margin=2)                                                                                                     \n",
    "wc2.generate_from_frequencies( dict(   zip(df_tfidf.keys(),list(np.sum(df_tfidf,axis=0))  )  ) )   \n",
    "plt.imshow(wc2)\n",
    "#plt.axis(\"off\")\n",
    "plt.show()"
   ]
  },
  {
   "cell_type": "markdown",
   "metadata": {},
   "source": [
    "由上面兩張圖可以發現TF-IDF矩陣把一些出現頻率比較少但重要的資訊凸顯出來(例如:不同縣市)，而出現頻率高但相對不重要的資訊降低其重要性(例如:包裹)"
   ]
  },
  {
   "cell_type": "code",
   "execution_count": 10,
   "metadata": {
    "scrolled": false
   },
   "outputs": [
    {
     "data": {
      "text/plain": [
       "<BarContainer object of 21 artists>"
      ]
     },
     "execution_count": 10,
     "metadata": {},
     "output_type": "execute_result"
    },
    {
     "data": {
      "image/png": "[encoded data removed]",
      "text/plain": [
       "<Figure size 2880x2160 with 2 Axes>"
      ]
     },
     "metadata": {
      "needs_background": "light"
     },
     "output_type": "display_data"
    }
   ],
   "source": [
    "#loc是根據dataframe的具體標籤選取列，而iloc是根據標籤所在的位置，從0開始計數。\n",
    "plt.figure(figsize=(40, 30))\n",
    "ax1 = plt.subplot(211)\n",
    "ax1.bar(wfm.keys(),list(np.sum(wfm.iloc[0:1],axis=0)))\n",
    "ax2 = plt.subplot(212)\n",
    "ax2.bar(df_tfidf.keys(),list(np.sum(df_tfidf.iloc[0:1],axis=0)) )"
   ]
  },
  {
   "cell_type": "code",
   "execution_count": 11,
   "metadata": {
    "scrolled": false
   },
   "outputs": [
    {
     "data": {
      "text/plain": [
       "<BarContainer object of 21 artists>"
      ]
     },
     "execution_count": 11,
     "metadata": {},
     "output_type": "execute_result"
    },
    {
     "data": {
      "image/png": "[encoded data removed]",
      "text/plain": [
       "<Figure size 2880x2160 with 2 Axes>"
      ]
     },
     "metadata": {
      "needs_background": "light"
     },
     "output_type": "display_data"
    }
   ],
   "source": [
    "plt.figure(figsize=(40, 30))\n",
    "ax1 = plt.subplot(211)\n",
    "ax1.bar(wfm.keys(),list(np.sum(wfm,axis=0)))\n",
    "ax2 = plt.subplot(212)\n",
    "ax2.bar(df_tfidf.keys(),list(np.sum(df_tfidf,axis=0)) )"
   ]
  },
  {
   "cell_type": "markdown",
   "metadata": {},
   "source": [
    "比較詞頻矩陣和TF-IDF矩陣針對重點文字的抓取能力:由上面前兩張圖可以發現在比較第一個郵件種類名稱時，雖然不同縣市和包裹都出現一次，但包裹出現在別的郵件種類名稱次數較高，因此TF-IDF將包裹的重要性降低；而由上面後兩張圖可以發現在比較所有郵件種類名稱時，雖然詞頻矩陣其小包出現頻率比同縣市高，但在TF-IDF矩陣卻是同縣市的重要性比小包還高。"
   ]
  },
  {
   "cell_type": "markdown",
   "metadata": {},
   "source": [
    "由於郵件種類名稱斷詞後的數量非常多，無法看出字與字的關係是否合理，因此使用PCA降成二維在畫圖比較"
   ]
  },
  {
   "cell_type": "code",
   "execution_count": 12,
   "metadata": {
    "scrolled": true
   },
   "outputs": [
    {
     "data": {
      "text/plain": [
       "Text(0, 0.5, 'Eigenvalue')"
      ]
     },
     "execution_count": 12,
     "metadata": {},
     "output_type": "execute_result"
    },
    {
     "data": {
      "image/png": "[encoded data removed]",
      "text/plain": [
       "<Figure size 1440x360 with 2 Axes>"
      ]
     },
     "metadata": {
      "needs_background": "light"
     },
     "output_type": "display_data"
    }
   ],
   "source": [
    "from sklearn.decomposition import PCA  \n",
    "pca = PCA(n_components=21)  \n",
    "reduced_X = pca.fit_transform(df_tfidf)  \n",
    "cummulative_perc_variance = np.array(\n",
    "[pca.explained_variance_[:i].sum()/pca.explained_variance_.sum() for i in range(1, pca.explained_variance_.shape[0] + 1)])\n",
    "index=[\"PC1\",\"PC2\",\"PC3\",\"PC4\",\"PC5\",\"PC6\",\"PC7\",\"PC8\",\"PC9\",\"PC10\",\"PC11\",\"PC12\",\"PC13\",\"PC14\",\"PC15\",\"PC16\",\"PC17\",\"PC18\",\"PC19\",\"PC20\",\"PC21\"]\n",
    "fig = plt.figure(figsize=(20, 5))\n",
    "ax1 = fig.add_subplot(111)\n",
    "ax1.plot(index,cummulative_perc_variance,marker='.',ms=10)\n",
    "ax1.set_ylabel('Cumulative Percentage',fontsize='15')\n",
    "ax1.set_title(\"PCA\",fontsize='20')\n",
    "ax1.set_ylim(0,)\n",
    "ax2 = ax1.twinx() \n",
    "ax2.bar(index,pca.explained_variance_,alpha=.6,color=\"g\")\n",
    "ax2.set_ylabel('Eigenvalue',fontsize='15') "
   ]
  },
  {
   "cell_type": "markdown",
   "metadata": {},
   "source": [
    "由上圖可以知道前兩個PC1和PC2的加總即可解釋原來資料中70%左右的變異，因此降成二維仍具有代表性"
   ]
  },
  {
   "cell_type": "code",
   "execution_count": 13,
   "metadata": {
    "scrolled": true
   },
   "outputs": [
    {
     "name": "stdout",
     "output_type": "stream",
     "text": [
      "特徵值：[0.31230184 0.16151849]\n",
      "特徵向量：[[-9.51366228e-02  3.97759456e-02  3.23086426e-04  1.69275062e-03\n",
      "   5.53170727e-04  3.87377409e-05  3.91596394e-01  4.81807755e-02\n",
      "   3.87377409e-05 -5.95343509e-04  1.03743942e-04 -4.16545592e-04\n",
      "   3.36598574e-01  1.43484834e-03 -4.88240219e-01  1.77109010e-01\n",
      "   1.47396820e-04 -5.46359148e-01  1.59168444e-02  3.89718429e-01\n",
      "   2.24607707e-03]\n",
      " [ 8.09028130e-01 -2.62112941e-03  2.35529663e-04  7.36291697e-03\n",
      "   1.04893996e-04  2.83666419e-05 -1.55921248e-01  2.60124544e-03\n",
      "   2.83666419e-05  4.22821932e-04  5.74649279e-06  1.65769370e-02\n",
      "  -1.46175217e-01  3.56776694e-04  6.19247921e-02 -4.95905338e-02\n",
      "   5.95655462e-05 -5.20467583e-01 -1.36703149e-03 -1.49163195e-01\n",
      "   4.46091576e-03]]\n"
     ]
    },
    {
     "data": {
      "text/html": [
       "<div>\n",
       "<style scoped>\n",
       "    .dataframe tbody tr th:only-of-type {\n",
       "        vertical-align: middle;\n",
       "    }\n",
       "\n",
       "    .dataframe tbody tr th {\n",
       "        vertical-align: top;\n",
       "    }\n",
       "\n",
       "    .dataframe thead th {\n",
       "        text-align: right;\n",
       "    }\n",
       "</style>\n",
       "<table border=\"1\" class=\"dataframe\">\n",
       "  <thead>\n",
       "    <tr style=\"text-align: right;\">\n",
       "      <th></th>\n",
       "      <th>PC1</th>\n",
       "      <th>PC2</th>\n",
       "    </tr>\n",
       "  </thead>\n",
       "  <tbody>\n",
       "    <tr>\n",
       "      <th>0</th>\n",
       "      <td>-0.595596</td>\n",
       "      <td>-0.291936</td>\n",
       "    </tr>\n",
       "    <tr>\n",
       "      <th>1</th>\n",
       "      <td>0.773487</td>\n",
       "      <td>-0.181025</td>\n",
       "    </tr>\n",
       "    <tr>\n",
       "      <th>2</th>\n",
       "      <td>0.646616</td>\n",
       "      <td>-0.107718</td>\n",
       "    </tr>\n",
       "    <tr>\n",
       "      <th>3</th>\n",
       "      <td>0.646616</td>\n",
       "      <td>-0.107718</td>\n",
       "    </tr>\n",
       "    <tr>\n",
       "      <th>4</th>\n",
       "      <td>-0.595596</td>\n",
       "      <td>-0.291936</td>\n",
       "    </tr>\n",
       "  </tbody>\n",
       "</table>\n",
       "</div>"
      ],
      "text/plain": [
       "        PC1       PC2\n",
       "0 -0.595596 -0.291936\n",
       "1  0.773487 -0.181025\n",
       "2  0.646616 -0.107718\n",
       "3  0.646616 -0.107718\n",
       "4 -0.595596 -0.291936"
      ]
     },
     "execution_count": 13,
     "metadata": {},
     "output_type": "execute_result"
    }
   ],
   "source": [
    "pca = PCA(n_components=2)  \n",
    "reduced_X = pca.fit_transform(df_tfidf)  \n",
    "print('特徵值：{}\\n特徵向量：{}'.format(pca.explained_variance_,pca.components_))  \n",
    "reduced_X=pd.DataFrame(reduced_X,columns=[\"PC1\",\"PC2\"])\n",
    "reduced_X.head()"
   ]
  },
  {
   "cell_type": "code",
   "execution_count": 16,
   "metadata": {},
   "outputs": [
    {
     "data": {
      "image/png": "[encoded data removed]",
      "text/plain": [
       "<Figure size 1440x360 with 1 Axes>"
      ]
     },
     "metadata": {
      "needs_background": "light"
     },
     "output_type": "display_data"
    }
   ],
   "source": [
    "fig = plt.figure(figsize=(20, 5))\n",
    "plt.bar(df_tfidf.columns,abs(pca.components_[0]), alpha=0.9, width = 0.35, facecolor = 'lightskyblue', edgecolor = 'white', label='PC1', lw=1)\n",
    "plt.bar(df_tfidf.columns,abs(pca.components_[1]), alpha=0.9, width = 0.35, facecolor = 'yellowgreen', edgecolor = 'white', label='PC2', lw=1)\n",
    "plt.legend(loc=\"upper left\")\n",
    "plt.show()"
   ]
  },
  {
   "cell_type": "markdown",
   "metadata": {},
   "source": [
    "由特徵向量的係數絕對值大小可以看出PC1主要受普通、小包、掛號、包裹等文字影響，而PC2主要受不同縣市、普通、掛號、同縣市等文字影響"
   ]
  },
  {
   "cell_type": "markdown",
   "metadata": {},
   "source": [
    "接著我想要利用K-means將文字分群，首先要決定k的數值(依輪廓係數決定)"
   ]
  },
  {
   "cell_type": "code",
   "execution_count": 17,
   "metadata": {},
   "outputs": [
    {
     "data": {
      "image/png": "[encoded data removed]",
      "text/plain": [
       "<Figure size 432x288 with 1 Axes>"
      ]
     },
     "metadata": {
      "needs_background": "light"
     },
     "output_type": "display_data"
    },
    {
     "name": "stdout",
     "output_type": "stream",
     "text": [
      "[0.6637137343531442, 0.8879815984286048, 0.8428074117794481, 0.8626749538562741, 0.8774220491701837, 0.9308787876612443, 0.9422223497863336, 0.9480356286542073, 0.9538965400335743]\n"
     ]
    }
   ],
   "source": [
    "from sklearn import cluster, datasets, metrics\n",
    "silhouette_avgs = []\n",
    "ks = range(2, 11)\n",
    "for k in ks:\n",
    "    kmeans_fit = cluster.KMeans(n_clusters = k).fit(reduced_X)\n",
    "    cluster_labels = kmeans_fit.labels_\n",
    "    silhouette_avg = metrics.silhouette_score(reduced_X, cluster_labels)\n",
    "    silhouette_avgs.append(silhouette_avg)\n",
    "    \n",
    "plt.bar(ks, silhouette_avgs)\n",
    "plt.show()\n",
    "print(silhouette_avgs)"
   ]
  },
  {
   "cell_type": "markdown",
   "metadata": {},
   "source": [
    "由上圖可知當k=3時在k-means演算法的績效就算不錯了，因此分為三群並畫圖視覺化"
   ]
  },
  {
   "cell_type": "code",
   "execution_count": 19,
   "metadata": {
    "scrolled": false
   },
   "outputs": [
    {
     "data": {
      "text/plain": [
       "<matplotlib.collections.PathCollection at 0x291800a87f0>"
      ]
     },
     "execution_count": 19,
     "metadata": {},
     "output_type": "execute_result"
    },
    {
     "data": {
      "image/png": "[encoded data removed]",
      "text/plain": [
       "<Figure size 720x720 with 1 Axes>"
      ]
     },
     "metadata": {
      "needs_background": "light"
     },
     "output_type": "display_data"
    }
   ],
   "source": [
    "from sklearn.cluster import KMeans\n",
    "clf = KMeans(n_clusters=3)\n",
    "clf.fit(reduced_X)\n",
    "clf.labels_\n",
    "fig = plt.figure(figsize = (10,10))\n",
    "plt.scatter(reduced_X['PC1'],reduced_X['PC2'], alpha=0.6,c=clf.labels_) "
   ]
  },
  {
   "cell_type": "code",
   "execution_count": 20,
   "metadata": {},
   "outputs": [
    {
     "data": {
      "text/plain": [
       "array([1, 2, 2, ..., 1, 0, 0])"
      ]
     },
     "execution_count": 20,
     "metadata": {},
     "output_type": "execute_result"
    }
   ],
   "source": [
    "clf.labels_"
   ]
  },
  {
   "cell_type": "markdown",
   "metadata": {},
   "source": [
    "上圖結果顯示分為三群其每個分群彼此間的差異滿大的，因此分成3群滿合理的"
   ]
  },
  {
   "cell_type": "markdown",
   "metadata": {},
   "source": [
    "將每一筆資料標上郵件種類的類別再畫圖視覺化看看"
   ]
  },
  {
   "cell_type": "code",
   "execution_count": 24,
   "metadata": {
    "scrolled": false
   },
   "outputs": [
    {
     "name": "stderr",
     "output_type": "stream",
     "text": [
      "D:\\anaconda\\envs\\python36\\lib\\site-packages\\seaborn\\axisgrid.py:2065: UserWarning: The `size` parameter has been renamed to `height`; pleaes update your code.\n",
      "  warnings.warn(msg, UserWarning)\n"
     ]
    },
    {
     "data": {
      "text/plain": [
       "<seaborn.axisgrid.PairGrid at 0x150016875f8>"
      ]
     },
     "execution_count": 24,
     "metadata": {},
     "output_type": "execute_result"
    },
    {
     "data": {
      "image/png": "[encoded data removed]",
      "text/plain": [
       "<Figure size 416x360 with 1 Axes>"
      ]
     },
     "metadata": {
      "needs_background": "light"
     },
     "output_type": "display_data"
    }
   ],
   "source": [
    "import seaborn as sns\n",
    "temp = pd.DataFrame()\n",
    "temp[\"category\"]= pd.cut(accg3[\"acc12\"],[0,1.5,2.5,3.5],labels=[\"函件\",\"包裹\",\"快捷\"])\n",
    "temp[\"PC1\"]=reduced_X.PC1\n",
    "temp[\"PC2\"]=reduced_X.PC2\n",
    "sns.pairplot(x_vars=['PC1'], y_vars=['PC2'], data=temp,hue=\"category\", size=5)"
   ]
  },
  {
   "cell_type": "markdown",
   "metadata": {},
   "source": [
    "由上圖可以發現三個種類的郵件在二維平面上來看快捷大多處於平均值0附近，而函件和包裹都有分化走向不同極端的現象，因此可以知道3個種類的郵件其特性並不同，但也有重疊相似的部分，不像k-means分群將其每一個分群彼此差異性高。"
   ]
  },
  {
   "cell_type": "markdown",
   "metadata": {},
   "source": [
    "接下來我想找出各文字間的關聯性，因此先利用TF-IDF矩陣計算各文字間的相關矩陣，篩選出共線性高的字詞再做關聯性分析"
   ]
  },
  {
   "cell_type": "code",
   "execution_count": 25,
   "metadata": {
    "scrolled": false
   },
   "outputs": [
    {
     "data": {
      "text/plain": [
       "<matplotlib.axes._subplots.AxesSubplot at 0x15001531080>"
      ]
     },
     "execution_count": 25,
     "metadata": {},
     "output_type": "execute_result"
    },
    {
     "data": {
      "image/png": "[encoded data removed]",
      "text/plain": [
       "<Figure size 1440x1080 with 2 Axes>"
      ]
     },
     "metadata": {
      "needs_background": "light"
     },
     "output_type": "display_data"
    }
   ],
   "source": [
    "corrmat=df_tfidf.corr()\n",
    "f,ax = plt.subplots(figsize=(20,15))\n",
    "sns.heatmap(corrmat,vmax=0.8,square=True,annot=True,annot_kws={'size':10})"
   ]
  },
  {
   "cell_type": "markdown",
   "metadata": {},
   "source": [
    "淘汰相關係數低於0.2的文字，例如:明信片、回執、公件、印刷物、國內、報值、保價"
   ]
  },
  {
   "cell_type": "code",
   "execution_count": 10,
   "metadata": {
    "scrolled": false
   },
   "outputs": [
    {
     "data": {
      "text/html": [
       "<div>\n",
       "<style scoped>\n",
       "    .dataframe tbody tr th:only-of-type {\n",
       "        vertical-align: middle;\n",
       "    }\n",
       "\n",
       "    .dataframe tbody tr th {\n",
       "        vertical-align: top;\n",
       "    }\n",
       "\n",
       "    .dataframe thead th {\n",
       "        text-align: right;\n",
       "    }\n",
       "</style>\n",
       "<table border=\"1\" class=\"dataframe\">\n",
       "  <thead>\n",
       "    <tr style=\"text-align: right;\">\n",
       "      <th></th>\n",
       "      <th>不同縣市</th>\n",
       "      <th>存證</th>\n",
       "      <th>小包</th>\n",
       "      <th>法定</th>\n",
       "      <th>附回執</th>\n",
       "      <th>信函</th>\n",
       "      <th>快捷</th>\n",
       "      <th>普通</th>\n",
       "      <th>包裹</th>\n",
       "      <th>同縣市</th>\n",
       "      <th>島嶼間互寄</th>\n",
       "      <th>掛號</th>\n",
       "      <th>紙幣</th>\n",
       "      <th>限時</th>\n",
       "    </tr>\n",
       "  </thead>\n",
       "  <tbody>\n",
       "    <tr>\n",
       "      <th>0</th>\n",
       "      <td>True</td>\n",
       "      <td>False</td>\n",
       "      <td>False</td>\n",
       "      <td>False</td>\n",
       "      <td>False</td>\n",
       "      <td>False</td>\n",
       "      <td>False</td>\n",
       "      <td>False</td>\n",
       "      <td>True</td>\n",
       "      <td>False</td>\n",
       "      <td>False</td>\n",
       "      <td>False</td>\n",
       "      <td>False</td>\n",
       "      <td>False</td>\n",
       "    </tr>\n",
       "    <tr>\n",
       "      <th>1</th>\n",
       "      <td>False</td>\n",
       "      <td>False</td>\n",
       "      <td>True</td>\n",
       "      <td>False</td>\n",
       "      <td>False</td>\n",
       "      <td>False</td>\n",
       "      <td>False</td>\n",
       "      <td>True</td>\n",
       "      <td>False</td>\n",
       "      <td>False</td>\n",
       "      <td>False</td>\n",
       "      <td>True</td>\n",
       "      <td>False</td>\n",
       "      <td>False</td>\n",
       "    </tr>\n",
       "    <tr>\n",
       "      <th>2</th>\n",
       "      <td>False</td>\n",
       "      <td>False</td>\n",
       "      <td>False</td>\n",
       "      <td>False</td>\n",
       "      <td>False</td>\n",
       "      <td>True</td>\n",
       "      <td>False</td>\n",
       "      <td>True</td>\n",
       "      <td>False</td>\n",
       "      <td>False</td>\n",
       "      <td>False</td>\n",
       "      <td>True</td>\n",
       "      <td>False</td>\n",
       "      <td>False</td>\n",
       "    </tr>\n",
       "    <tr>\n",
       "      <th>3</th>\n",
       "      <td>False</td>\n",
       "      <td>False</td>\n",
       "      <td>False</td>\n",
       "      <td>False</td>\n",
       "      <td>False</td>\n",
       "      <td>True</td>\n",
       "      <td>False</td>\n",
       "      <td>True</td>\n",
       "      <td>False</td>\n",
       "      <td>False</td>\n",
       "      <td>False</td>\n",
       "      <td>True</td>\n",
       "      <td>False</td>\n",
       "      <td>False</td>\n",
       "    </tr>\n",
       "    <tr>\n",
       "      <th>4</th>\n",
       "      <td>True</td>\n",
       "      <td>False</td>\n",
       "      <td>False</td>\n",
       "      <td>False</td>\n",
       "      <td>False</td>\n",
       "      <td>False</td>\n",
       "      <td>False</td>\n",
       "      <td>False</td>\n",
       "      <td>True</td>\n",
       "      <td>False</td>\n",
       "      <td>False</td>\n",
       "      <td>False</td>\n",
       "      <td>False</td>\n",
       "      <td>False</td>\n",
       "    </tr>\n",
       "  </tbody>\n",
       "</table>\n",
       "</div>"
      ],
      "text/plain": [
       "    不同縣市     存證     小包     法定    附回執     信函     快捷     普通     包裹    同縣市  \\\n",
       "0   True  False  False  False  False  False  False  False   True  False   \n",
       "1  False  False   True  False  False  False  False   True  False  False   \n",
       "2  False  False  False  False  False   True  False   True  False  False   \n",
       "3  False  False  False  False  False   True  False   True  False  False   \n",
       "4   True  False  False  False  False  False  False  False   True  False   \n",
       "\n",
       "   島嶼間互寄     掛號     紙幣     限時  \n",
       "0  False  False  False  False  \n",
       "1  False   True  False  False  \n",
       "2  False   True  False  False  \n",
       "3  False   True  False  False  \n",
       "4  False  False  False  False  "
      ]
     },
     "execution_count": 10,
     "metadata": {},
     "output_type": "execute_result"
    }
   ],
   "source": [
    "delete_words=[\"明信片\",\"回執\",\"公件\",\"印刷物\",\"國內\",\"報值\",\"保價\"]\n",
    "wfm1=wfm.drop(delete_words,axis=1).copy()\n",
    "wfm1=wfm1.astype(\"bool\")\n",
    "wfm1.head()"
   ]
  },
  {
   "cell_type": "markdown",
   "metadata": {},
   "source": [
    "導入Apriori演算法進行關聯性分析 "
   ]
  },
  {
   "cell_type": "code",
   "execution_count": 11,
   "metadata": {
    "scrolled": true
   },
   "outputs": [
    {
     "data": {
      "text/html": [
       "<div>\n",
       "<style scoped>\n",
       "    .dataframe tbody tr th:only-of-type {\n",
       "        vertical-align: middle;\n",
       "    }\n",
       "\n",
       "    .dataframe tbody tr th {\n",
       "        vertical-align: top;\n",
       "    }\n",
       "\n",
       "    .dataframe thead th {\n",
       "        text-align: right;\n",
       "    }\n",
       "</style>\n",
       "<table border=\"1\" class=\"dataframe\">\n",
       "  <thead>\n",
       "    <tr style=\"text-align: right;\">\n",
       "      <th></th>\n",
       "      <th>support</th>\n",
       "      <th>itemsets</th>\n",
       "    </tr>\n",
       "  </thead>\n",
       "  <tbody>\n",
       "    <tr>\n",
       "      <th>0</th>\n",
       "      <td>0.401794</td>\n",
       "      <td>(0)</td>\n",
       "    </tr>\n",
       "    <tr>\n",
       "      <th>1</th>\n",
       "      <td>0.226839</td>\n",
       "      <td>(2)</td>\n",
       "    </tr>\n",
       "    <tr>\n",
       "      <th>2</th>\n",
       "      <td>0.140213</td>\n",
       "      <td>(5)</td>\n",
       "    </tr>\n",
       "    <tr>\n",
       "      <th>3</th>\n",
       "      <td>0.019301</td>\n",
       "      <td>(6)</td>\n",
       "    </tr>\n",
       "    <tr>\n",
       "      <th>4</th>\n",
       "      <td>0.342075</td>\n",
       "      <td>(7)</td>\n",
       "    </tr>\n",
       "    <tr>\n",
       "      <th>5</th>\n",
       "      <td>0.598547</td>\n",
       "      <td>(8)</td>\n",
       "    </tr>\n",
       "    <tr>\n",
       "      <th>6</th>\n",
       "      <td>0.206403</td>\n",
       "      <td>(9)</td>\n",
       "    </tr>\n",
       "    <tr>\n",
       "      <th>7</th>\n",
       "      <td>0.380677</td>\n",
       "      <td>(11)</td>\n",
       "    </tr>\n",
       "    <tr>\n",
       "      <th>8</th>\n",
       "      <td>0.040077</td>\n",
       "      <td>(13)</td>\n",
       "    </tr>\n",
       "    <tr>\n",
       "      <th>9</th>\n",
       "      <td>0.392825</td>\n",
       "      <td>(0, 8)</td>\n",
       "    </tr>\n",
       "    <tr>\n",
       "      <th>10</th>\n",
       "      <td>0.215713</td>\n",
       "      <td>(2, 7)</td>\n",
       "    </tr>\n",
       "    <tr>\n",
       "      <th>11</th>\n",
       "      <td>0.226726</td>\n",
       "      <td>(2, 11)</td>\n",
       "    </tr>\n",
       "    <tr>\n",
       "      <th>12</th>\n",
       "      <td>0.011126</td>\n",
       "      <td>(2, 13)</td>\n",
       "    </tr>\n",
       "    <tr>\n",
       "      <th>13</th>\n",
       "      <td>0.113760</td>\n",
       "      <td>(5, 7)</td>\n",
       "    </tr>\n",
       "    <tr>\n",
       "      <th>14</th>\n",
       "      <td>0.138851</td>\n",
       "      <td>(11, 5)</td>\n",
       "    </tr>\n",
       "    <tr>\n",
       "      <th>15</th>\n",
       "      <td>0.026453</td>\n",
       "      <td>(13, 5)</td>\n",
       "    </tr>\n",
       "    <tr>\n",
       "      <th>16</th>\n",
       "      <td>0.340940</td>\n",
       "      <td>(11, 7)</td>\n",
       "    </tr>\n",
       "    <tr>\n",
       "      <th>17</th>\n",
       "      <td>0.202316</td>\n",
       "      <td>(8, 9)</td>\n",
       "    </tr>\n",
       "    <tr>\n",
       "      <th>18</th>\n",
       "      <td>0.039737</td>\n",
       "      <td>(11, 13)</td>\n",
       "    </tr>\n",
       "    <tr>\n",
       "      <th>19</th>\n",
       "      <td>0.215599</td>\n",
       "      <td>(2, 11, 7)</td>\n",
       "    </tr>\n",
       "    <tr>\n",
       "      <th>20</th>\n",
       "      <td>0.011126</td>\n",
       "      <td>(2, 11, 13)</td>\n",
       "    </tr>\n",
       "    <tr>\n",
       "      <th>21</th>\n",
       "      <td>0.112738</td>\n",
       "      <td>(11, 5, 7)</td>\n",
       "    </tr>\n",
       "    <tr>\n",
       "      <th>22</th>\n",
       "      <td>0.026113</td>\n",
       "      <td>(13, 11, 5)</td>\n",
       "    </tr>\n",
       "  </tbody>\n",
       "</table>\n",
       "</div>"
      ],
      "text/plain": [
       "     support     itemsets\n",
       "0   0.401794          (0)\n",
       "1   0.226839          (2)\n",
       "2   0.140213          (5)\n",
       "3   0.019301          (6)\n",
       "4   0.342075          (7)\n",
       "5   0.598547          (8)\n",
       "6   0.206403          (9)\n",
       "7   0.380677         (11)\n",
       "8   0.040077         (13)\n",
       "9   0.392825       (0, 8)\n",
       "10  0.215713       (2, 7)\n",
       "11  0.226726      (2, 11)\n",
       "12  0.011126      (2, 13)\n",
       "13  0.113760       (5, 7)\n",
       "14  0.138851      (11, 5)\n",
       "15  0.026453      (13, 5)\n",
       "16  0.340940      (11, 7)\n",
       "17  0.202316       (8, 9)\n",
       "18  0.039737     (11, 13)\n",
       "19  0.215599   (2, 11, 7)\n",
       "20  0.011126  (2, 11, 13)\n",
       "21  0.112738   (11, 5, 7)\n",
       "22  0.026113  (13, 11, 5)"
      ]
     },
     "execution_count": 11,
     "metadata": {},
     "output_type": "execute_result"
    }
   ],
   "source": [
    "from mlxtend.frequent_patterns import apriori\n",
    "from mlxtend.frequent_patterns import association_rules\n",
    "\n",
    "minsup = 0.01\n",
    "apriori(wfm1, min_support = minsup,use_colnames=True)\n",
    "result = apriori(wfm1, min_support = minsup)\n",
    "result"
   ]
  },
  {
   "cell_type": "code",
   "execution_count": 12,
   "metadata": {
    "scrolled": true
   },
   "outputs": [
    {
     "data": {
      "image/png": "[encoded data removed]",
      "text/plain": [
       "<Figure size 432x288 with 1 Axes>"
      ]
     },
     "metadata": {
      "needs_background": "light"
     },
     "output_type": "display_data"
    }
   ],
   "source": [
    "rules = association_rules(result, metric=\"confidence\", min_threshold=0.5)\n",
    "support = rules['support']\n",
    "confidence = rules['confidence']\n",
    "plt.scatter(support, confidence, alpha=0.5, marker=\"*\")\n",
    "plt.xlabel('support')\n",
    "plt.ylabel('confidence') \n",
    "plt.show()"
   ]
  },
  {
   "cell_type": "markdown",
   "metadata": {},
   "source": [
    "由上圖可以看出confident的分布並不一致，而confident和lift越大表示先導項與後繼項的關聯性越強，因此接下來進行confident和lift的篩選"
   ]
  },
  {
   "cell_type": "code",
   "execution_count": 13,
   "metadata": {
    "scrolled": true
   },
   "outputs": [
    {
     "data": {
      "text/html": [
       "<div>\n",
       "<style scoped>\n",
       "    .dataframe tbody tr th:only-of-type {\n",
       "        vertical-align: middle;\n",
       "    }\n",
       "\n",
       "    .dataframe tbody tr th {\n",
       "        vertical-align: top;\n",
       "    }\n",
       "\n",
       "    .dataframe thead th {\n",
       "        text-align: right;\n",
       "    }\n",
       "</style>\n",
       "<table border=\"1\" class=\"dataframe\">\n",
       "  <thead>\n",
       "    <tr style=\"text-align: right;\">\n",
       "      <th></th>\n",
       "      <th>antecedents</th>\n",
       "      <th>consequents</th>\n",
       "      <th>antecedent support</th>\n",
       "      <th>consequent support</th>\n",
       "      <th>support</th>\n",
       "      <th>confidence</th>\n",
       "      <th>lift</th>\n",
       "      <th>leverage</th>\n",
       "      <th>conviction</th>\n",
       "    </tr>\n",
       "  </thead>\n",
       "  <tbody>\n",
       "    <tr>\n",
       "      <th>0</th>\n",
       "      <td>(0)</td>\n",
       "      <td>(8)</td>\n",
       "      <td>0.401794</td>\n",
       "      <td>0.598547</td>\n",
       "      <td>0.392825</td>\n",
       "      <td>0.977677</td>\n",
       "      <td>1.633418</td>\n",
       "      <td>0.152332</td>\n",
       "      <td>17.984088</td>\n",
       "    </tr>\n",
       "    <tr>\n",
       "      <th>1</th>\n",
       "      <td>(2)</td>\n",
       "      <td>(7)</td>\n",
       "      <td>0.226839</td>\n",
       "      <td>0.342075</td>\n",
       "      <td>0.215713</td>\n",
       "      <td>0.950951</td>\n",
       "      <td>2.779946</td>\n",
       "      <td>0.138117</td>\n",
       "      <td>13.413606</td>\n",
       "    </tr>\n",
       "    <tr>\n",
       "      <th>2</th>\n",
       "      <td>(2)</td>\n",
       "      <td>(11)</td>\n",
       "      <td>0.226839</td>\n",
       "      <td>0.380677</td>\n",
       "      <td>0.226726</td>\n",
       "      <td>0.999499</td>\n",
       "      <td>2.625587</td>\n",
       "      <td>0.140373</td>\n",
       "      <td>1237.408038</td>\n",
       "    </tr>\n",
       "    <tr>\n",
       "      <th>3</th>\n",
       "      <td>(5)</td>\n",
       "      <td>(11)</td>\n",
       "      <td>0.140213</td>\n",
       "      <td>0.380677</td>\n",
       "      <td>0.138851</td>\n",
       "      <td>0.990283</td>\n",
       "      <td>2.601377</td>\n",
       "      <td>0.085475</td>\n",
       "      <td>63.738694</td>\n",
       "    </tr>\n",
       "    <tr>\n",
       "      <th>4</th>\n",
       "      <td>(7)</td>\n",
       "      <td>(11)</td>\n",
       "      <td>0.342075</td>\n",
       "      <td>0.380677</td>\n",
       "      <td>0.340940</td>\n",
       "      <td>0.996681</td>\n",
       "      <td>2.618183</td>\n",
       "      <td>0.210720</td>\n",
       "      <td>186.602123</td>\n",
       "    </tr>\n",
       "    <tr>\n",
       "      <th>5</th>\n",
       "      <td>(9)</td>\n",
       "      <td>(8)</td>\n",
       "      <td>0.206403</td>\n",
       "      <td>0.598547</td>\n",
       "      <td>0.202316</td>\n",
       "      <td>0.980198</td>\n",
       "      <td>1.637630</td>\n",
       "      <td>0.078774</td>\n",
       "      <td>20.273388</td>\n",
       "    </tr>\n",
       "    <tr>\n",
       "      <th>6</th>\n",
       "      <td>(13)</td>\n",
       "      <td>(11)</td>\n",
       "      <td>0.040077</td>\n",
       "      <td>0.380677</td>\n",
       "      <td>0.039737</td>\n",
       "      <td>0.991501</td>\n",
       "      <td>2.604576</td>\n",
       "      <td>0.024480</td>\n",
       "      <td>72.873713</td>\n",
       "    </tr>\n",
       "    <tr>\n",
       "      <th>7</th>\n",
       "      <td>(2, 11)</td>\n",
       "      <td>(7)</td>\n",
       "      <td>0.226726</td>\n",
       "      <td>0.342075</td>\n",
       "      <td>0.215599</td>\n",
       "      <td>0.950926</td>\n",
       "      <td>2.779874</td>\n",
       "      <td>0.138042</td>\n",
       "      <td>13.406892</td>\n",
       "    </tr>\n",
       "    <tr>\n",
       "      <th>8</th>\n",
       "      <td>(2, 7)</td>\n",
       "      <td>(11)</td>\n",
       "      <td>0.215713</td>\n",
       "      <td>0.380677</td>\n",
       "      <td>0.215599</td>\n",
       "      <td>0.999474</td>\n",
       "      <td>2.625519</td>\n",
       "      <td>0.133483</td>\n",
       "      <td>1176.714351</td>\n",
       "    </tr>\n",
       "    <tr>\n",
       "      <th>9</th>\n",
       "      <td>(2)</td>\n",
       "      <td>(11, 7)</td>\n",
       "      <td>0.226839</td>\n",
       "      <td>0.340940</td>\n",
       "      <td>0.215599</td>\n",
       "      <td>0.950450</td>\n",
       "      <td>2.787735</td>\n",
       "      <td>0.138261</td>\n",
       "      <td>13.301028</td>\n",
       "    </tr>\n",
       "    <tr>\n",
       "      <th>10</th>\n",
       "      <td>(2, 13)</td>\n",
       "      <td>(11)</td>\n",
       "      <td>0.011126</td>\n",
       "      <td>0.380677</td>\n",
       "      <td>0.011126</td>\n",
       "      <td>1.000000</td>\n",
       "      <td>2.626901</td>\n",
       "      <td>0.006891</td>\n",
       "      <td>inf</td>\n",
       "    </tr>\n",
       "    <tr>\n",
       "      <th>11</th>\n",
       "      <td>(5, 7)</td>\n",
       "      <td>(11)</td>\n",
       "      <td>0.113760</td>\n",
       "      <td>0.380677</td>\n",
       "      <td>0.112738</td>\n",
       "      <td>0.991018</td>\n",
       "      <td>2.603306</td>\n",
       "      <td>0.069433</td>\n",
       "      <td>68.951332</td>\n",
       "    </tr>\n",
       "    <tr>\n",
       "      <th>12</th>\n",
       "      <td>(5, 13)</td>\n",
       "      <td>(11)</td>\n",
       "      <td>0.026453</td>\n",
       "      <td>0.380677</td>\n",
       "      <td>0.026113</td>\n",
       "      <td>0.987124</td>\n",
       "      <td>2.593079</td>\n",
       "      <td>0.016042</td>\n",
       "      <td>48.100780</td>\n",
       "    </tr>\n",
       "  </tbody>\n",
       "</table>\n",
       "</div>"
      ],
      "text/plain": [
       "   antecedents consequents  antecedent support  consequent support   support  \\\n",
       "0          (0)         (8)            0.401794            0.598547  0.392825   \n",
       "1          (2)         (7)            0.226839            0.342075  0.215713   \n",
       "2          (2)        (11)            0.226839            0.380677  0.226726   \n",
       "3          (5)        (11)            0.140213            0.380677  0.138851   \n",
       "4          (7)        (11)            0.342075            0.380677  0.340940   \n",
       "5          (9)         (8)            0.206403            0.598547  0.202316   \n",
       "6         (13)        (11)            0.040077            0.380677  0.039737   \n",
       "7      (2, 11)         (7)            0.226726            0.342075  0.215599   \n",
       "8       (2, 7)        (11)            0.215713            0.380677  0.215599   \n",
       "9          (2)     (11, 7)            0.226839            0.340940  0.215599   \n",
       "10     (2, 13)        (11)            0.011126            0.380677  0.011126   \n",
       "11      (5, 7)        (11)            0.113760            0.380677  0.112738   \n",
       "12     (5, 13)        (11)            0.026453            0.380677  0.026113   \n",
       "\n",
       "    confidence      lift  leverage   conviction  \n",
       "0     0.977677  1.633418  0.152332    17.984088  \n",
       "1     0.950951  2.779946  0.138117    13.413606  \n",
       "2     0.999499  2.625587  0.140373  1237.408038  \n",
       "3     0.990283  2.601377  0.085475    63.738694  \n",
       "4     0.996681  2.618183  0.210720   186.602123  \n",
       "5     0.980198  1.637630  0.078774    20.273388  \n",
       "6     0.991501  2.604576  0.024480    72.873713  \n",
       "7     0.950926  2.779874  0.138042    13.406892  \n",
       "8     0.999474  2.625519  0.133483  1176.714351  \n",
       "9     0.950450  2.787735  0.138261    13.301028  \n",
       "10    1.000000  2.626901  0.006891          inf  \n",
       "11    0.991018  2.603306  0.069433    68.951332  \n",
       "12    0.987124  2.593079  0.016042    48.100780  "
      ]
     },
     "execution_count": 13,
     "metadata": {},
     "output_type": "execute_result"
    }
   ],
   "source": [
    "#support=支援度、condident=置信度、lift=應用關聯規則和不應用產生結果的比例\n",
    "#confident越大表示先導項與後繼項的關聯性越強\n",
    "rules = association_rules(result, metric=\"confidence\", min_threshold=0.9)\n",
    "rules"
   ]
  },
  {
   "cell_type": "code",
   "execution_count": 14,
   "metadata": {},
   "outputs": [
    {
     "data": {
      "text/html": [
       "<div>\n",
       "<style scoped>\n",
       "    .dataframe tbody tr th:only-of-type {\n",
       "        vertical-align: middle;\n",
       "    }\n",
       "\n",
       "    .dataframe tbody tr th {\n",
       "        vertical-align: top;\n",
       "    }\n",
       "\n",
       "    .dataframe thead th {\n",
       "        text-align: right;\n",
       "    }\n",
       "</style>\n",
       "<table border=\"1\" class=\"dataframe\">\n",
       "  <thead>\n",
       "    <tr style=\"text-align: right;\">\n",
       "      <th></th>\n",
       "      <th>antecedents</th>\n",
       "      <th>consequents</th>\n",
       "      <th>antecedent support</th>\n",
       "      <th>consequent support</th>\n",
       "      <th>support</th>\n",
       "      <th>confidence</th>\n",
       "      <th>lift</th>\n",
       "      <th>leverage</th>\n",
       "      <th>conviction</th>\n",
       "    </tr>\n",
       "  </thead>\n",
       "  <tbody>\n",
       "    <tr>\n",
       "      <th>0</th>\n",
       "      <td>(2)</td>\n",
       "      <td>(7)</td>\n",
       "      <td>0.226839</td>\n",
       "      <td>0.342075</td>\n",
       "      <td>0.215713</td>\n",
       "      <td>0.950951</td>\n",
       "      <td>2.779946</td>\n",
       "      <td>0.138117</td>\n",
       "      <td>13.413606</td>\n",
       "    </tr>\n",
       "    <tr>\n",
       "      <th>1</th>\n",
       "      <td>(7)</td>\n",
       "      <td>(2)</td>\n",
       "      <td>0.342075</td>\n",
       "      <td>0.226839</td>\n",
       "      <td>0.215713</td>\n",
       "      <td>0.630601</td>\n",
       "      <td>2.779946</td>\n",
       "      <td>0.138117</td>\n",
       "      <td>2.093022</td>\n",
       "    </tr>\n",
       "    <tr>\n",
       "      <th>2</th>\n",
       "      <td>(2)</td>\n",
       "      <td>(11)</td>\n",
       "      <td>0.226839</td>\n",
       "      <td>0.380677</td>\n",
       "      <td>0.226726</td>\n",
       "      <td>0.999499</td>\n",
       "      <td>2.625587</td>\n",
       "      <td>0.140373</td>\n",
       "      <td>1237.408038</td>\n",
       "    </tr>\n",
       "    <tr>\n",
       "      <th>3</th>\n",
       "      <td>(11)</td>\n",
       "      <td>(2)</td>\n",
       "      <td>0.380677</td>\n",
       "      <td>0.226839</td>\n",
       "      <td>0.226726</td>\n",
       "      <td>0.595586</td>\n",
       "      <td>2.625587</td>\n",
       "      <td>0.140373</td>\n",
       "      <td>1.911805</td>\n",
       "    </tr>\n",
       "    <tr>\n",
       "      <th>4</th>\n",
       "      <td>(5)</td>\n",
       "      <td>(7)</td>\n",
       "      <td>0.140213</td>\n",
       "      <td>0.342075</td>\n",
       "      <td>0.113760</td>\n",
       "      <td>0.811336</td>\n",
       "      <td>2.371805</td>\n",
       "      <td>0.065797</td>\n",
       "      <td>3.487283</td>\n",
       "    </tr>\n",
       "  </tbody>\n",
       "</table>\n",
       "</div>"
      ],
      "text/plain": [
       "  antecedents consequents  antecedent support  consequent support   support  \\\n",
       "0         (2)         (7)            0.226839            0.342075  0.215713   \n",
       "1         (7)         (2)            0.342075            0.226839  0.215713   \n",
       "2         (2)        (11)            0.226839            0.380677  0.226726   \n",
       "3        (11)         (2)            0.380677            0.226839  0.226726   \n",
       "4         (5)         (7)            0.140213            0.342075  0.113760   \n",
       "\n",
       "   confidence      lift  leverage   conviction  \n",
       "0    0.950951  2.779946  0.138117    13.413606  \n",
       "1    0.630601  2.779946  0.138117     2.093022  \n",
       "2    0.999499  2.625587  0.140373  1237.408038  \n",
       "3    0.595586  2.625587  0.140373     1.911805  \n",
       "4    0.811336  2.371805  0.065797     3.487283  "
      ]
     },
     "execution_count": 14,
     "metadata": {},
     "output_type": "execute_result"
    }
   ],
   "source": [
    "rules = association_rules(result, metric=\"lift\", min_threshold=2)\n",
    "rules.head()"
   ]
  },
  {
   "cell_type": "code",
   "execution_count": 15,
   "metadata": {
    "scrolled": true
   },
   "outputs": [
    {
     "data": {
      "text/html": [
       "<div>\n",
       "<style scoped>\n",
       "    .dataframe tbody tr th:only-of-type {\n",
       "        vertical-align: middle;\n",
       "    }\n",
       "\n",
       "    .dataframe tbody tr th {\n",
       "        vertical-align: top;\n",
       "    }\n",
       "\n",
       "    .dataframe thead th {\n",
       "        text-align: right;\n",
       "    }\n",
       "</style>\n",
       "<table border=\"1\" class=\"dataframe\">\n",
       "  <thead>\n",
       "    <tr style=\"text-align: right;\">\n",
       "      <th></th>\n",
       "      <th>antecedents</th>\n",
       "      <th>consequents</th>\n",
       "      <th>antecedent support</th>\n",
       "      <th>consequent support</th>\n",
       "      <th>support</th>\n",
       "      <th>confidence</th>\n",
       "      <th>lift</th>\n",
       "      <th>leverage</th>\n",
       "      <th>conviction</th>\n",
       "      <th>antecedant_len</th>\n",
       "    </tr>\n",
       "  </thead>\n",
       "  <tbody>\n",
       "    <tr>\n",
       "      <th>0</th>\n",
       "      <td>(2)</td>\n",
       "      <td>(7)</td>\n",
       "      <td>0.226839</td>\n",
       "      <td>0.342075</td>\n",
       "      <td>0.215713</td>\n",
       "      <td>0.950951</td>\n",
       "      <td>2.779946</td>\n",
       "      <td>0.138117</td>\n",
       "      <td>13.413606</td>\n",
       "      <td>1</td>\n",
       "    </tr>\n",
       "    <tr>\n",
       "      <th>1</th>\n",
       "      <td>(7)</td>\n",
       "      <td>(2)</td>\n",
       "      <td>0.342075</td>\n",
       "      <td>0.226839</td>\n",
       "      <td>0.215713</td>\n",
       "      <td>0.630601</td>\n",
       "      <td>2.779946</td>\n",
       "      <td>0.138117</td>\n",
       "      <td>2.093022</td>\n",
       "      <td>1</td>\n",
       "    </tr>\n",
       "    <tr>\n",
       "      <th>2</th>\n",
       "      <td>(2)</td>\n",
       "      <td>(11)</td>\n",
       "      <td>0.226839</td>\n",
       "      <td>0.380677</td>\n",
       "      <td>0.226726</td>\n",
       "      <td>0.999499</td>\n",
       "      <td>2.625587</td>\n",
       "      <td>0.140373</td>\n",
       "      <td>1237.408038</td>\n",
       "      <td>1</td>\n",
       "    </tr>\n",
       "    <tr>\n",
       "      <th>3</th>\n",
       "      <td>(11)</td>\n",
       "      <td>(2)</td>\n",
       "      <td>0.380677</td>\n",
       "      <td>0.226839</td>\n",
       "      <td>0.226726</td>\n",
       "      <td>0.595586</td>\n",
       "      <td>2.625587</td>\n",
       "      <td>0.140373</td>\n",
       "      <td>1.911805</td>\n",
       "      <td>1</td>\n",
       "    </tr>\n",
       "    <tr>\n",
       "      <th>4</th>\n",
       "      <td>(5)</td>\n",
       "      <td>(7)</td>\n",
       "      <td>0.140213</td>\n",
       "      <td>0.342075</td>\n",
       "      <td>0.113760</td>\n",
       "      <td>0.811336</td>\n",
       "      <td>2.371805</td>\n",
       "      <td>0.065797</td>\n",
       "      <td>3.487283</td>\n",
       "      <td>1</td>\n",
       "    </tr>\n",
       "  </tbody>\n",
       "</table>\n",
       "</div>"
      ],
      "text/plain": [
       "  antecedents consequents  antecedent support  consequent support   support  \\\n",
       "0         (2)         (7)            0.226839            0.342075  0.215713   \n",
       "1         (7)         (2)            0.342075            0.226839  0.215713   \n",
       "2         (2)        (11)            0.226839            0.380677  0.226726   \n",
       "3        (11)         (2)            0.380677            0.226839  0.226726   \n",
       "4         (5)         (7)            0.140213            0.342075  0.113760   \n",
       "\n",
       "   confidence      lift  leverage   conviction  antecedant_len  \n",
       "0    0.950951  2.779946  0.138117    13.413606               1  \n",
       "1    0.630601  2.779946  0.138117     2.093022               1  \n",
       "2    0.999499  2.625587  0.140373  1237.408038               1  \n",
       "3    0.595586  2.625587  0.140373     1.911805               1  \n",
       "4    0.811336  2.371805  0.065797     3.487283               1  "
      ]
     },
     "execution_count": 15,
     "metadata": {},
     "output_type": "execute_result"
    }
   ],
   "source": [
    "rules[\"antecedant_len\"] = rules[\"antecedents\"].apply(lambda x: len(x))\n",
    "rules.head()"
   ]
  },
  {
   "cell_type": "code",
   "execution_count": 16,
   "metadata": {
    "scrolled": true
   },
   "outputs": [
    {
     "data": {
      "text/html": [
       "<div>\n",
       "<style scoped>\n",
       "    .dataframe tbody tr th:only-of-type {\n",
       "        vertical-align: middle;\n",
       "    }\n",
       "\n",
       "    .dataframe tbody tr th {\n",
       "        vertical-align: top;\n",
       "    }\n",
       "\n",
       "    .dataframe thead th {\n",
       "        text-align: right;\n",
       "    }\n",
       "</style>\n",
       "<table border=\"1\" class=\"dataframe\">\n",
       "  <thead>\n",
       "    <tr style=\"text-align: right;\">\n",
       "      <th></th>\n",
       "      <th>antecedents</th>\n",
       "      <th>consequents</th>\n",
       "      <th>antecedent support</th>\n",
       "      <th>consequent support</th>\n",
       "      <th>support</th>\n",
       "      <th>confidence</th>\n",
       "      <th>lift</th>\n",
       "      <th>leverage</th>\n",
       "      <th>conviction</th>\n",
       "      <th>antecedant_len</th>\n",
       "    </tr>\n",
       "  </thead>\n",
       "  <tbody>\n",
       "    <tr>\n",
       "      <th>0</th>\n",
       "      <td>(2)</td>\n",
       "      <td>(7)</td>\n",
       "      <td>0.226839</td>\n",
       "      <td>0.342075</td>\n",
       "      <td>0.215713</td>\n",
       "      <td>0.950951</td>\n",
       "      <td>2.779946</td>\n",
       "      <td>0.138117</td>\n",
       "      <td>13.413606</td>\n",
       "      <td>1</td>\n",
       "    </tr>\n",
       "    <tr>\n",
       "      <th>2</th>\n",
       "      <td>(2)</td>\n",
       "      <td>(11)</td>\n",
       "      <td>0.226839</td>\n",
       "      <td>0.380677</td>\n",
       "      <td>0.226726</td>\n",
       "      <td>0.999499</td>\n",
       "      <td>2.625587</td>\n",
       "      <td>0.140373</td>\n",
       "      <td>1237.408038</td>\n",
       "      <td>1</td>\n",
       "    </tr>\n",
       "    <tr>\n",
       "      <th>7</th>\n",
       "      <td>(5)</td>\n",
       "      <td>(11)</td>\n",
       "      <td>0.140213</td>\n",
       "      <td>0.380677</td>\n",
       "      <td>0.138851</td>\n",
       "      <td>0.990283</td>\n",
       "      <td>2.601377</td>\n",
       "      <td>0.085475</td>\n",
       "      <td>63.738694</td>\n",
       "      <td>1</td>\n",
       "    </tr>\n",
       "    <tr>\n",
       "      <th>11</th>\n",
       "      <td>(7)</td>\n",
       "      <td>(11)</td>\n",
       "      <td>0.342075</td>\n",
       "      <td>0.380677</td>\n",
       "      <td>0.340940</td>\n",
       "      <td>0.996681</td>\n",
       "      <td>2.618183</td>\n",
       "      <td>0.210720</td>\n",
       "      <td>186.602123</td>\n",
       "      <td>1</td>\n",
       "    </tr>\n",
       "    <tr>\n",
       "      <th>13</th>\n",
       "      <td>(13)</td>\n",
       "      <td>(11)</td>\n",
       "      <td>0.040077</td>\n",
       "      <td>0.380677</td>\n",
       "      <td>0.039737</td>\n",
       "      <td>0.991501</td>\n",
       "      <td>2.604576</td>\n",
       "      <td>0.024480</td>\n",
       "      <td>72.873713</td>\n",
       "      <td>1</td>\n",
       "    </tr>\n",
       "    <tr>\n",
       "      <th>14</th>\n",
       "      <td>(2, 11)</td>\n",
       "      <td>(7)</td>\n",
       "      <td>0.226726</td>\n",
       "      <td>0.342075</td>\n",
       "      <td>0.215599</td>\n",
       "      <td>0.950926</td>\n",
       "      <td>2.779874</td>\n",
       "      <td>0.138042</td>\n",
       "      <td>13.406892</td>\n",
       "      <td>2</td>\n",
       "    </tr>\n",
       "    <tr>\n",
       "      <th>15</th>\n",
       "      <td>(2, 7)</td>\n",
       "      <td>(11)</td>\n",
       "      <td>0.215713</td>\n",
       "      <td>0.380677</td>\n",
       "      <td>0.215599</td>\n",
       "      <td>0.999474</td>\n",
       "      <td>2.625519</td>\n",
       "      <td>0.133483</td>\n",
       "      <td>1176.714351</td>\n",
       "      <td>2</td>\n",
       "    </tr>\n",
       "    <tr>\n",
       "      <th>17</th>\n",
       "      <td>(2)</td>\n",
       "      <td>(11, 7)</td>\n",
       "      <td>0.226839</td>\n",
       "      <td>0.340940</td>\n",
       "      <td>0.215599</td>\n",
       "      <td>0.950450</td>\n",
       "      <td>2.787735</td>\n",
       "      <td>0.138261</td>\n",
       "      <td>13.301028</td>\n",
       "      <td>1</td>\n",
       "    </tr>\n",
       "    <tr>\n",
       "      <th>20</th>\n",
       "      <td>(2, 13)</td>\n",
       "      <td>(11)</td>\n",
       "      <td>0.011126</td>\n",
       "      <td>0.380677</td>\n",
       "      <td>0.011126</td>\n",
       "      <td>1.000000</td>\n",
       "      <td>2.626901</td>\n",
       "      <td>0.006891</td>\n",
       "      <td>inf</td>\n",
       "      <td>2</td>\n",
       "    </tr>\n",
       "    <tr>\n",
       "      <th>24</th>\n",
       "      <td>(5, 7)</td>\n",
       "      <td>(11)</td>\n",
       "      <td>0.113760</td>\n",
       "      <td>0.380677</td>\n",
       "      <td>0.112738</td>\n",
       "      <td>0.991018</td>\n",
       "      <td>2.603306</td>\n",
       "      <td>0.069433</td>\n",
       "      <td>68.951332</td>\n",
       "      <td>2</td>\n",
       "    </tr>\n",
       "    <tr>\n",
       "      <th>29</th>\n",
       "      <td>(5, 13)</td>\n",
       "      <td>(11)</td>\n",
       "      <td>0.026453</td>\n",
       "      <td>0.380677</td>\n",
       "      <td>0.026113</td>\n",
       "      <td>0.987124</td>\n",
       "      <td>2.593079</td>\n",
       "      <td>0.016042</td>\n",
       "      <td>48.100780</td>\n",
       "      <td>2</td>\n",
       "    </tr>\n",
       "  </tbody>\n",
       "</table>\n",
       "</div>"
      ],
      "text/plain": [
       "   antecedents consequents  antecedent support  consequent support   support  \\\n",
       "0          (2)         (7)            0.226839            0.342075  0.215713   \n",
       "2          (2)        (11)            0.226839            0.380677  0.226726   \n",
       "7          (5)        (11)            0.140213            0.380677  0.138851   \n",
       "11         (7)        (11)            0.342075            0.380677  0.340940   \n",
       "13        (13)        (11)            0.040077            0.380677  0.039737   \n",
       "14     (2, 11)         (7)            0.226726            0.342075  0.215599   \n",
       "15      (2, 7)        (11)            0.215713            0.380677  0.215599   \n",
       "17         (2)     (11, 7)            0.226839            0.340940  0.215599   \n",
       "20     (2, 13)        (11)            0.011126            0.380677  0.011126   \n",
       "24      (5, 7)        (11)            0.113760            0.380677  0.112738   \n",
       "29     (5, 13)        (11)            0.026453            0.380677  0.026113   \n",
       "\n",
       "    confidence      lift  leverage   conviction  antecedant_len  \n",
       "0     0.950951  2.779946  0.138117    13.413606               1  \n",
       "2     0.999499  2.625587  0.140373  1237.408038               1  \n",
       "7     0.990283  2.601377  0.085475    63.738694               1  \n",
       "11    0.996681  2.618183  0.210720   186.602123               1  \n",
       "13    0.991501  2.604576  0.024480    72.873713               1  \n",
       "14    0.950926  2.779874  0.138042    13.406892               2  \n",
       "15    0.999474  2.625519  0.133483  1176.714351               2  \n",
       "17    0.950450  2.787735  0.138261    13.301028               1  \n",
       "20    1.000000  2.626901  0.006891          inf               2  \n",
       "24    0.991018  2.603306  0.069433    68.951332               2  \n",
       "29    0.987124  2.593079  0.016042    48.100780               2  "
      ]
     },
     "execution_count": 16,
     "metadata": {},
     "output_type": "execute_result"
    }
   ],
   "source": [
    "out = rules[ (rules['antecedant_len'] >= 1) &\n",
    "       (rules['confidence'] > 0.9) &\n",
    "       (rules['lift'] > 2) ].copy()\n",
    "out"
   ]
  },
  {
   "cell_type": "code",
   "execution_count": 20,
   "metadata": {},
   "outputs": [
    {
     "data": {
      "image/png": "[encoded data removed]",
      "text/plain": [
       "<Figure size 432x288 with 1 Axes>"
      ]
     },
     "metadata": {},
     "output_type": "display_data"
    },
    {
     "name": "stdout",
     "output_type": "stream",
     "text": [
      "數字代表文字名稱: \n",
      "         0\n",
      "0    不同縣市\n",
      "1      存證\n",
      "2      小包\n",
      "3      法定\n",
      "4     附回執\n",
      "5      信函\n",
      "6      快捷\n",
      "7      普通\n",
      "8      包裹\n",
      "9     同縣市\n",
      "10  島嶼間互寄\n",
      "11     掛號\n",
      "12     紙幣\n",
      "13     限時 \n",
      "\n",
      "獨立的文字:  [0, 1, 3, 4, 6, 8, 9, 10, 12]\n"
     ]
    }
   ],
   "source": [
    "import networkx as nx\n",
    "G = nx.DiGraph()\n",
    "for i in range(wfm1.shape[1]):\n",
    "    G.add_node(i)\n",
    "for i in range(len(out['antecedents'])):\n",
    "    currentFrom = list(out['antecedents'].iloc[i])\n",
    "    currentTo = list(out['consequents'].iloc[i])\n",
    "    for j in range(len(currentFrom)):\n",
    "       G.add_edge(currentFrom[j], currentTo[0])\n",
    "\n",
    "# positions for all nodes\n",
    "#pos = nx.fruchterman_reingold_layout(G)\n",
    "nx.draw(G,font_size=15,node_size=100,node_color='r' ,with_labels=True)\n",
    "#nx.draw_networkx_labels(G,pos,font_size=10)\n",
    "\n",
    "plt.savefig(\"weighted_graph.png\") # save as png\n",
    "plt.show() # display\n",
    "print(\"數字代表文字名稱: \\n\",pd.DataFrame(wfm1.columns),\"\\n\")\n",
    "print (\"獨立的文字: \",list(nx.isolates(G))) "
   ]
  },
  {
   "cell_type": "markdown",
   "metadata": {},
   "source": [
    "有了關聯圖可以發現以下幾個關聯性:限時->掛號，掛號->普通，普通->掛號，小包->普通，信函->法定，小包->掛號。因此我們可以推論投遞到i郵箱的信件其內容特性，像是如果有一個客人投遞小包到i郵箱，可能會使用普通或是掛號的方式寄件。"
   ]
  },
  {
   "cell_type": "markdown",
   "metadata": {},
   "source": [
    "# 目標二:了解各變數與ACC12(信函、包裹、快捷)之間的關係(預測模型)"
   ]
  },
  {
   "cell_type": "markdown",
   "metadata": {},
   "source": [
    "挑出和ACC12有關係的變數並檢查其缺漏值數量"
   ]
  },
  {
   "cell_type": "code",
   "execution_count": 21,
   "metadata": {},
   "outputs": [
    {
     "name": "stdout",
     "output_type": "stream",
     "text": [
      "              acc2        acc12        acc16        acc17        acc19  \\\n",
      "count  8808.000000  8808.000000  8808.000000  8808.000000  8808.000000   \n",
      "mean      0.100817     1.637148     0.003292     0.000681     0.000454   \n",
      "std       0.301104     0.519444     0.071405     0.026092     0.021307   \n",
      "min       0.000000     1.000000     0.000000     0.000000     0.000000   \n",
      "25%       0.000000     1.000000     0.000000     0.000000     0.000000   \n",
      "50%       0.000000     2.000000     0.000000     0.000000     0.000000   \n",
      "75%       0.000000     2.000000     0.000000     0.000000     0.000000   \n",
      "max       1.000000     3.000000     4.000000     1.000000     1.000000   \n",
      "\n",
      "             acc21        acc23        acc24        acc26        acc29  \\\n",
      "count  8808.000000  8808.000000  8808.000000  8528.000000  8808.000000   \n",
      "mean      0.000114     0.040077     0.002838     1.917097     2.465145   \n",
      "std       0.010655     0.196151     0.055296     0.275752     1.805436   \n",
      "min       0.000000     0.000000     0.000000     1.000000     1.000000   \n",
      "25%       0.000000     0.000000     0.000000     2.000000     1.000000   \n",
      "50%       0.000000     0.000000     0.000000     2.000000     1.000000   \n",
      "75%       0.000000     0.000000     0.000000     2.000000     5.000000   \n",
      "max       1.000000     1.000000     2.000000     2.000000     6.000000   \n",
      "\n",
      "             acc32        weight  \n",
      "count  8808.000000   8808.000000  \n",
      "mean      1.949024   1274.590644  \n",
      "std      12.171376   2574.320754  \n",
      "min       1.000000      0.000000  \n",
      "25%       1.000000    106.000000  \n",
      "50%       1.000000    454.000000  \n",
      "75%       1.000000   1072.000000  \n",
      "max     678.000000  21000.000000  \n",
      "acc2        0\n",
      "acc12       0\n",
      "acc16       0\n",
      "acc17       0\n",
      "acc19       0\n",
      "acc21       0\n",
      "acc23       0\n",
      "acc24       0\n",
      "acc26     280\n",
      "acc29       0\n",
      "acc32       0\n",
      "weight      0\n",
      "dtype: int64\n"
     ]
    }
   ],
   "source": [
    "accg3_2=accg3[[\"acc2\",\"acc12\",\"acc16\",\"acc17\",\"acc19\",\"acc21\",\"acc23\",\"acc24\",\"acc26\",\"acc29\"\n",
    "             ,\"acc32\"]].copy()\n",
    "accg3_2[\"weight\"]=accg3[\"acc31\"]/accg3[\"acc30\"]\n",
    "print(accg3_2.describe())\n",
    "print(accg3_2.shape[0]-accg3_2.count())\n",
    "#print (pd.crosstab(accg3_2['acc2'], accg3_2['acc29']))"
   ]
  },
  {
   "cell_type": "markdown",
   "metadata": {},
   "source": [
    "acc26缺了280筆資料，然而總共只有8000多筆資料，如果直接淘汰280筆資料並不適合，因此選擇用KNN演算法填補缺漏值"
   ]
  },
  {
   "cell_type": "code",
   "execution_count": 22,
   "metadata": {},
   "outputs": [],
   "source": [
    "from sklearn.neighbors import KNeighborsClassifier, KNeighborsRegressor\n",
    " \n",
    "def knn_missing_filled(x_train, y_train, test, k = 3, dispersed = True):\n",
    "    if dispersed:\n",
    "        clf = KNeighborsClassifier(n_neighbors = k, weights = \"distance\")\n",
    "    else:\n",
    "        clf = KNeighborsRegressor(n_neighbors = k, weights = \"distance\")\n",
    "    \n",
    "    clf.fit(x_train, y_train)\n",
    "    return clf.predict(test)"
   ]
  },
  {
   "cell_type": "code",
   "execution_count": 23,
   "metadata": {
    "scrolled": true
   },
   "outputs": [
    {
     "name": "stderr",
     "output_type": "stream",
     "text": [
      "D:\\anaconda\\envs\\python36\\lib\\site-packages\\ipykernel_launcher.py:9: DataConversionWarning: A column-vector y was passed when a 1d array was expected. Please change the shape of y to (n_samples, ), for example using ravel().\n",
      "  if __name__ == '__main__':\n",
      "D:\\anaconda\\envs\\python36\\lib\\site-packages\\ipykernel_launcher.py:6: SettingWithCopyWarning: \n",
      "A value is trying to be set on a copy of a slice from a DataFrame\n",
      "\n",
      "See the caveats in the documentation: http://pandas.pydata.org/pandas-docs/stable/indexing.html#indexing-view-versus-copy\n",
      "  \n"
     ]
    },
    {
     "data": {
      "text/html": [
       "<div>\n",
       "<style scoped>\n",
       "    .dataframe tbody tr th:only-of-type {\n",
       "        vertical-align: middle;\n",
       "    }\n",
       "\n",
       "    .dataframe tbody tr th {\n",
       "        vertical-align: top;\n",
       "    }\n",
       "\n",
       "    .dataframe thead th {\n",
       "        text-align: right;\n",
       "    }\n",
       "</style>\n",
       "<table border=\"1\" class=\"dataframe\">\n",
       "  <thead>\n",
       "    <tr style=\"text-align: right;\">\n",
       "      <th></th>\n",
       "      <th>acc2</th>\n",
       "      <th>acc12</th>\n",
       "      <th>acc16</th>\n",
       "      <th>acc17</th>\n",
       "      <th>acc19</th>\n",
       "      <th>acc21</th>\n",
       "      <th>acc23</th>\n",
       "      <th>acc24</th>\n",
       "      <th>acc26</th>\n",
       "      <th>acc29</th>\n",
       "      <th>acc32</th>\n",
       "      <th>weight</th>\n",
       "    </tr>\n",
       "  </thead>\n",
       "  <tbody>\n",
       "    <tr>\n",
       "      <th>0</th>\n",
       "      <td>0</td>\n",
       "      <td>2</td>\n",
       "      <td>0</td>\n",
       "      <td>0</td>\n",
       "      <td>0</td>\n",
       "      <td>0</td>\n",
       "      <td>0</td>\n",
       "      <td>0</td>\n",
       "      <td>2.0</td>\n",
       "      <td>1</td>\n",
       "      <td>1</td>\n",
       "      <td>833.0</td>\n",
       "    </tr>\n",
       "    <tr>\n",
       "      <th>1</th>\n",
       "      <td>0</td>\n",
       "      <td>1</td>\n",
       "      <td>0</td>\n",
       "      <td>0</td>\n",
       "      <td>0</td>\n",
       "      <td>0</td>\n",
       "      <td>0</td>\n",
       "      <td>0</td>\n",
       "      <td>2.0</td>\n",
       "      <td>3</td>\n",
       "      <td>1</td>\n",
       "      <td>40.0</td>\n",
       "    </tr>\n",
       "    <tr>\n",
       "      <th>2</th>\n",
       "      <td>0</td>\n",
       "      <td>1</td>\n",
       "      <td>0</td>\n",
       "      <td>0</td>\n",
       "      <td>0</td>\n",
       "      <td>0</td>\n",
       "      <td>0</td>\n",
       "      <td>0</td>\n",
       "      <td>2.0</td>\n",
       "      <td>1</td>\n",
       "      <td>1</td>\n",
       "      <td>12.0</td>\n",
       "    </tr>\n",
       "    <tr>\n",
       "      <th>3</th>\n",
       "      <td>0</td>\n",
       "      <td>1</td>\n",
       "      <td>0</td>\n",
       "      <td>0</td>\n",
       "      <td>0</td>\n",
       "      <td>0</td>\n",
       "      <td>0</td>\n",
       "      <td>0</td>\n",
       "      <td>2.0</td>\n",
       "      <td>1</td>\n",
       "      <td>1</td>\n",
       "      <td>20.0</td>\n",
       "    </tr>\n",
       "    <tr>\n",
       "      <th>4</th>\n",
       "      <td>0</td>\n",
       "      <td>2</td>\n",
       "      <td>0</td>\n",
       "      <td>0</td>\n",
       "      <td>0</td>\n",
       "      <td>0</td>\n",
       "      <td>0</td>\n",
       "      <td>0</td>\n",
       "      <td>2.0</td>\n",
       "      <td>5</td>\n",
       "      <td>1</td>\n",
       "      <td>1853.0</td>\n",
       "    </tr>\n",
       "  </tbody>\n",
       "</table>\n",
       "</div>"
      ],
      "text/plain": [
       "   acc2  acc12  acc16  acc17  acc19  acc21  acc23  acc24  acc26  acc29  acc32  \\\n",
       "0     0      2      0      0      0      0      0      0    2.0      1      1   \n",
       "1     0      1      0      0      0      0      0      0    2.0      3      1   \n",
       "2     0      1      0      0      0      0      0      0    2.0      1      1   \n",
       "3     0      1      0      0      0      0      0      0    2.0      1      1   \n",
       "4     0      2      0      0      0      0      0      0    2.0      5      1   \n",
       "\n",
       "   weight  \n",
       "0   833.0  \n",
       "1    40.0  \n",
       "2    12.0  \n",
       "3    20.0  \n",
       "4  1853.0  "
      ]
     },
     "execution_count": 23,
     "metadata": {},
     "output_type": "execute_result"
    }
   ],
   "source": [
    "na_position=accg3_2[(accg3_2.acc26.isnull()==True)].index.tolist()\n",
    "x_train=accg3_2[[\"acc2\",\"acc12\",\"acc16\",\"acc17\",\"acc19\",\"acc21\",\"acc23\",\"acc24\",\"acc29\"\n",
    "             ,\"acc32\",\"weight\"]].copy().drop( na_position )\n",
    "test=accg3_2.iloc[na_position].dropna(axis=1,how='all') \n",
    "y_train=accg3[[\"acc26\"]].copy().drop( na_position )\n",
    "accg3_2[\"acc26\"][accg3_2.iloc[na_position].index]=knn_missing_filled(x_train,y_train,test)\n",
    "accg3_2.head()"
   ]
  },
  {
   "cell_type": "markdown",
   "metadata": {},
   "source": [
    "因為應變數為類別資料，而自變數包含連續資料和類別資料，因此無法使用線性回歸，改使用Multinomial logistic regression\n",
    "(其目標在於當自變項增加一個單位，依變項1相對依變項0的發生機率會增加幾倍)"
   ]
  },
  {
   "cell_type": "code",
   "execution_count": 24,
   "metadata": {},
   "outputs": [],
   "source": [
    "import statsmodels.api as sm\n",
    "import pylab as pl"
   ]
  },
  {
   "cell_type": "markdown",
   "metadata": {},
   "source": [
    "在logit模型中，如果某一項變數是類別資料要將其轉成dummy variable。假設某一個變數產生5個dummy variable，只要引入4個就好以防止多元共線性的問題產生。此外，還要加入一個常數項。"
   ]
  },
  {
   "cell_type": "code",
   "execution_count": 25,
   "metadata": {
    "scrolled": true
   },
   "outputs": [
    {
     "name": "stderr",
     "output_type": "stream",
     "text": [
      "D:\\anaconda\\envs\\python36\\lib\\site-packages\\ipykernel_launcher.py:5: DeprecationWarning: \n",
      ".ix is deprecated. Please use\n",
      ".loc for label based indexing or\n",
      ".iloc for positional indexing\n",
      "\n",
      "See the documentation here:\n",
      "http://pandas.pydata.org/pandas-docs/stable/indexing.html#ix-indexer-is-deprecated\n",
      "  \"\"\"\n",
      "D:\\anaconda\\envs\\python36\\lib\\site-packages\\ipykernel_launcher.py:6: DeprecationWarning: \n",
      ".ix is deprecated. Please use\n",
      ".loc for label based indexing or\n",
      ".iloc for positional indexing\n",
      "\n",
      "See the documentation here:\n",
      "http://pandas.pydata.org/pandas-docs/stable/indexing.html#ix-indexer-is-deprecated\n",
      "  \n",
      "D:\\anaconda\\envs\\python36\\lib\\site-packages\\ipykernel_launcher.py:7: DeprecationWarning: \n",
      ".ix is deprecated. Please use\n",
      ".loc for label based indexing or\n",
      ".iloc for positional indexing\n",
      "\n",
      "See the documentation here:\n",
      "http://pandas.pydata.org/pandas-docs/stable/indexing.html#ix-indexer-is-deprecated\n",
      "  import sys\n",
      "D:\\anaconda\\envs\\python36\\lib\\site-packages\\numpy\\core\\fromnumeric.py:2389: FutureWarning: Method .ptp is deprecated and will be removed in a future version. Use numpy.ptp instead.\n",
      "  return ptp(axis=axis, out=out, **kwargs)\n"
     ]
    },
    {
     "data": {
      "text/html": [
       "<div>\n",
       "<style scoped>\n",
       "    .dataframe tbody tr th:only-of-type {\n",
       "        vertical-align: middle;\n",
       "    }\n",
       "\n",
       "    .dataframe tbody tr th {\n",
       "        vertical-align: top;\n",
       "    }\n",
       "\n",
       "    .dataframe thead th {\n",
       "        text-align: right;\n",
       "    }\n",
       "</style>\n",
       "<table border=\"1\" class=\"dataframe\">\n",
       "  <thead>\n",
       "    <tr style=\"text-align: right;\">\n",
       "      <th></th>\n",
       "      <th>const</th>\n",
       "      <th>acc2</th>\n",
       "      <th>acc12</th>\n",
       "      <th>acc17</th>\n",
       "      <th>acc19</th>\n",
       "      <th>acc21</th>\n",
       "      <th>acc23</th>\n",
       "      <th>acc26</th>\n",
       "      <th>acc32</th>\n",
       "      <th>weight</th>\n",
       "      <th>acc29_3</th>\n",
       "      <th>acc29_4</th>\n",
       "      <th>acc29_5</th>\n",
       "      <th>acc29_6</th>\n",
       "      <th>acc16_1</th>\n",
       "      <th>acc16_2</th>\n",
       "      <th>acc16_4</th>\n",
       "      <th>acc24_1</th>\n",
       "      <th>acc24_2</th>\n",
       "    </tr>\n",
       "  </thead>\n",
       "  <tbody>\n",
       "    <tr>\n",
       "      <th>0</th>\n",
       "      <td>1.0</td>\n",
       "      <td>0</td>\n",
       "      <td>2</td>\n",
       "      <td>0</td>\n",
       "      <td>0</td>\n",
       "      <td>0</td>\n",
       "      <td>0</td>\n",
       "      <td>2.0</td>\n",
       "      <td>1</td>\n",
       "      <td>833.0</td>\n",
       "      <td>0</td>\n",
       "      <td>0</td>\n",
       "      <td>0</td>\n",
       "      <td>0</td>\n",
       "      <td>0</td>\n",
       "      <td>0</td>\n",
       "      <td>0</td>\n",
       "      <td>0</td>\n",
       "      <td>0</td>\n",
       "    </tr>\n",
       "    <tr>\n",
       "      <th>1</th>\n",
       "      <td>1.0</td>\n",
       "      <td>0</td>\n",
       "      <td>1</td>\n",
       "      <td>0</td>\n",
       "      <td>0</td>\n",
       "      <td>0</td>\n",
       "      <td>0</td>\n",
       "      <td>2.0</td>\n",
       "      <td>1</td>\n",
       "      <td>40.0</td>\n",
       "      <td>1</td>\n",
       "      <td>0</td>\n",
       "      <td>0</td>\n",
       "      <td>0</td>\n",
       "      <td>0</td>\n",
       "      <td>0</td>\n",
       "      <td>0</td>\n",
       "      <td>0</td>\n",
       "      <td>0</td>\n",
       "    </tr>\n",
       "    <tr>\n",
       "      <th>2</th>\n",
       "      <td>1.0</td>\n",
       "      <td>0</td>\n",
       "      <td>1</td>\n",
       "      <td>0</td>\n",
       "      <td>0</td>\n",
       "      <td>0</td>\n",
       "      <td>0</td>\n",
       "      <td>2.0</td>\n",
       "      <td>1</td>\n",
       "      <td>12.0</td>\n",
       "      <td>0</td>\n",
       "      <td>0</td>\n",
       "      <td>0</td>\n",
       "      <td>0</td>\n",
       "      <td>0</td>\n",
       "      <td>0</td>\n",
       "      <td>0</td>\n",
       "      <td>0</td>\n",
       "      <td>0</td>\n",
       "    </tr>\n",
       "    <tr>\n",
       "      <th>3</th>\n",
       "      <td>1.0</td>\n",
       "      <td>0</td>\n",
       "      <td>1</td>\n",
       "      <td>0</td>\n",
       "      <td>0</td>\n",
       "      <td>0</td>\n",
       "      <td>0</td>\n",
       "      <td>2.0</td>\n",
       "      <td>1</td>\n",
       "      <td>20.0</td>\n",
       "      <td>0</td>\n",
       "      <td>0</td>\n",
       "      <td>0</td>\n",
       "      <td>0</td>\n",
       "      <td>0</td>\n",
       "      <td>0</td>\n",
       "      <td>0</td>\n",
       "      <td>0</td>\n",
       "      <td>0</td>\n",
       "    </tr>\n",
       "    <tr>\n",
       "      <th>4</th>\n",
       "      <td>1.0</td>\n",
       "      <td>0</td>\n",
       "      <td>2</td>\n",
       "      <td>0</td>\n",
       "      <td>0</td>\n",
       "      <td>0</td>\n",
       "      <td>0</td>\n",
       "      <td>2.0</td>\n",
       "      <td>1</td>\n",
       "      <td>1853.0</td>\n",
       "      <td>0</td>\n",
       "      <td>0</td>\n",
       "      <td>1</td>\n",
       "      <td>0</td>\n",
       "      <td>0</td>\n",
       "      <td>0</td>\n",
       "      <td>0</td>\n",
       "      <td>0</td>\n",
       "      <td>0</td>\n",
       "    </tr>\n",
       "  </tbody>\n",
       "</table>\n",
       "</div>"
      ],
      "text/plain": [
       "   const  acc2  acc12  acc17  acc19  acc21  acc23  acc26  acc32  weight  \\\n",
       "0    1.0     0      2      0      0      0      0    2.0      1   833.0   \n",
       "1    1.0     0      1      0      0      0      0    2.0      1    40.0   \n",
       "2    1.0     0      1      0      0      0      0    2.0      1    12.0   \n",
       "3    1.0     0      1      0      0      0      0    2.0      1    20.0   \n",
       "4    1.0     0      2      0      0      0      0    2.0      1  1853.0   \n",
       "\n",
       "   acc29_3  acc29_4  acc29_5  acc29_6  acc16_1  acc16_2  acc16_4  acc24_1  \\\n",
       "0        0        0        0        0        0        0        0        0   \n",
       "1        1        0        0        0        0        0        0        0   \n",
       "2        0        0        0        0        0        0        0        0   \n",
       "3        0        0        0        0        0        0        0        0   \n",
       "4        0        0        1        0        0        0        0        0   \n",
       "\n",
       "   acc24_2  \n",
       "0        0  \n",
       "1        0  \n",
       "2        0  \n",
       "3        0  \n",
       "4        0  "
      ]
     },
     "execution_count": 25,
     "metadata": {},
     "output_type": "execute_result"
    }
   ],
   "source": [
    "dummy_ranks29 = pd.get_dummies(accg3_2['acc29'], prefix='acc29') #1 3 4 5 6\n",
    "dummy_ranks16 = pd.get_dummies(accg3_2['acc16'], prefix='acc16') #0 1 2 4\n",
    "dummy_ranks24 = pd.get_dummies(accg3_2['acc24'], prefix='acc24') #0 1 2\n",
    "\n",
    "data=(accg3_2.copy().drop(\"acc29\",axis=1)).join(dummy_ranks29.ix[:,'acc29_3':])\n",
    "data=(data.drop(\"acc16\",axis=1)).join(dummy_ranks16.ix[:,'acc16_1':])\n",
    "data=(data.drop(\"acc24\",axis=1)).join(dummy_ranks24.ix[:,'acc24_1':])\n",
    "data=sm.add_constant(data)\n",
    "data.head()"
   ]
  },
  {
   "cell_type": "markdown",
   "metadata": {},
   "source": [
    "接下來開始測試各種變數組合的自變數與acc12應變數產生的logit model，其最終目標在於得到最高的Pseudo R-squared值且每個變數的係數具有顯著性( (P>|z|) <0.05)"
   ]
  },
  {
   "cell_type": "code",
   "execution_count": 26,
   "metadata": {
    "scrolled": true
   },
   "outputs": [
    {
     "name": "stderr",
     "output_type": "stream",
     "text": [
      "D:\\anaconda\\envs\\python36\\lib\\site-packages\\statsmodels\\discrete\\discrete_model.py:2154: RuntimeWarning: divide by zero encountered in log\n",
      "  logprob = np.log(self.cdf(np.dot(self.exog,params)))\n",
      "D:\\anaconda\\envs\\python36\\lib\\site-packages\\statsmodels\\discrete\\discrete_model.py:2155: RuntimeWarning: invalid value encountered in multiply\n",
      "  return np.sum(d * logprob)\n"
     ]
    },
    {
     "name": "stdout",
     "output_type": "stream",
     "text": [
      "Optimization terminated successfully.\n",
      "         Current function value: nan\n",
      "         Iterations 13\n",
      "                          MNLogit Regression Results                          \n",
      "==============================================================================\n",
      "Dep. Variable:                  acc12   No. Observations:                 8808\n",
      "Model:                        MNLogit   Df Residuals:                     8798\n",
      "Method:                           MLE   Df Model:                            8\n",
      "Date:                Wed, 08 May 2019   Pseudo R-squ.:                     nan\n",
      "Time:                        10:45:52   Log-Likelihood:                    nan\n",
      "converged:                       True   LL-Null:                       -6614.8\n",
      "                                        LLR p-value:                       nan\n",
      "==============================================================================\n",
      "   acc12=2       coef    std err          z      P>|z|      [0.025      0.975]\n",
      "------------------------------------------------------------------------------\n",
      "acc2          -2.6373      0.365     -7.221      0.000      -3.353      -1.921\n",
      "acc26         -1.8951      0.403     -4.701      0.000      -2.685      -1.105\n",
      "acc32         -0.0149      0.009     -1.639      0.101      -0.033       0.003\n",
      "weight         0.0069      0.000     43.189      0.000       0.007       0.007\n",
      "const          1.5894      0.809      1.965      0.049       0.004       3.174\n",
      "------------------------------------------------------------------------------\n",
      "   acc12=3       coef    std err          z      P>|z|      [0.025      0.975]\n",
      "------------------------------------------------------------------------------\n",
      "acc2           0.7059      0.409      1.727      0.084      -0.095       1.507\n",
      "acc26         -0.3454      0.475     -0.727      0.467      -1.276       0.586\n",
      "acc32         -1.1474      0.386     -2.973      0.003      -1.904      -0.391\n",
      "weight         0.0069      0.000     42.526      0.000       0.007       0.007\n",
      "const         -4.0046      1.064     -3.762      0.000      -6.091      -1.918\n",
      "==============================================================================\n"
     ]
    },
    {
     "name": "stderr",
     "output_type": "stream",
     "text": [
      "D:\\anaconda\\envs\\python36\\lib\\site-packages\\scipy\\stats\\_distn_infrastructure.py:877: RuntimeWarning: invalid value encountered in greater\n",
      "  return (self.a < x) & (x < self.b)\n",
      "D:\\anaconda\\envs\\python36\\lib\\site-packages\\scipy\\stats\\_distn_infrastructure.py:877: RuntimeWarning: invalid value encountered in less\n",
      "  return (self.a < x) & (x < self.b)\n",
      "D:\\anaconda\\envs\\python36\\lib\\site-packages\\scipy\\stats\\_distn_infrastructure.py:1831: RuntimeWarning: invalid value encountered in less_equal\n",
      "  cond2 = cond0 & (x <= self.a)\n"
     ]
    }
   ],
   "source": [
    "#train_cols = list(data.columns[:2])+list(data.columns[4:])\n",
    "#logit = sm.MNLogit(data['acc12'], data[train_cols])\n",
    "logit = sm.MNLogit(data['acc12'], data[[\"acc2\",\"acc26\",\"acc32\",\"weight\",\"const\"]])\n",
    "result = logit.fit()\n",
    "print (result.summary())"
   ]
  },
  {
   "cell_type": "markdown",
   "metadata": {},
   "source": [
    "最後塞選出4個會影響郵件種類的變數，包含\"是否特約\"，\"特約戶繳費方式\"，\"寄件數量\"，\"單件重量\"。我們可以從變數的係數解讀，客戶會選擇使用包裹(acc12=2)，主要會受寄件重量的正向影響，如果寄件的重量很重，會增加使用包裹的可能性；然而如果寄件的數量很多、並且繳費方式為當場繳費，會降低使用包裹的可能性。如果我們再進一步比較包裹和快捷(acc12=3)的差異，可以發現快捷受到寄件數量多寡的負面影響比包裹還大，可能原因是因為快捷的目的在於快速寄送服務，但相對的支付費用也會比較高，因此寄件數量一大成本變高可能會降低寄件人的接受度；此外，我們也能發現是否特約的係數(acc2)在包裹和快捷一個是正面效應一個是負面效應，可能原因是因為成為特約戶能得到的折扣優惠比較高，因此選擇使用快捷的意願會提高而使用包裹的意願會降低。"
   ]
  }
 ],
 "metadata": {
  "kernelspec": {
   "display_name": "Python 3",
   "language": "python",
   "name": "python3"
  },
  "language_info": {
   "codemirror_mode": {
    "name": "ipython",
    "version": 3
   },
   "file_extension": ".py",
   "mimetype": "text/x-python",
   "name": "python",
   "nbconvert_exporter": "python",
   "pygments_lexer": "ipython3",
   "version": "3.6.8"
  }
 },
 "nbformat": 4,
 "nbformat_minor": 2
}
