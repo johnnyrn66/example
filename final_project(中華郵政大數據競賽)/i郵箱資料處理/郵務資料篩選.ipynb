{
 "cells": [
  {
   "cell_type": "markdown",
   "metadata": {},
   "source": [
    "結合TT和ACC兩份資料表之共同欄位掛號號碼，將ACC內共2800萬筆資料中篩選出8808筆有關於投遞到i郵箱的資料匯出csv檔"
   ]
  },
  {
   "cell_type": "code",
   "execution_count": null,
   "metadata": {},
   "outputs": [],
   "source": [
    "library(readr)\n",
    "\n",
    "setwd(\"D:/competition/sample/ACC\")\n",
    "\n",
    "tt_G3<- read_csv(\"D:/competition/sample/tt_G3.csv\", \n",
    "                 col_types = cols(V2 = col_character() ))\n",
    "\n",
    "data <- data.frame()\n",
    "data <- NULL\n",
    "\n",
    "for (k in c(0:13)){\n",
    "  k <- formatC(k, width = 2, flag = 0) \n",
    "  path <- paste0( \"acc\", k)\n",
    "  \n",
    "  acc_csv <- read_csv(path, \n",
    "                      col_names = FALSE, col_types = cols(X33 = col_character(), X34 = col_character()),locale = locale(encoding = \"BIG5\"))\n",
    "  \n",
    "  for (i in 1:dim(acc_csv)[1]){\n",
    "    #print(i)\n",
    "    if (is.na(acc_csv$X33[i])==FALSE & is.na(as.integer(substr(acc_csv$X33[i],start=1,stop=6))  )==FALSE ){\n",
    "      ob<-as.integer(substr(acc_csv$X33[i],start=1,stop=6) )\n",
    "      of<-substr(acc_csv$X33[i],start=7,stop=nchar(acc_csv$X33[i]))\n",
    "      db<-as.integer(substr(acc_csv$X34[i],start=1,stop=6) )\n",
    "      for (j in 0:(db-ob)){\n",
    "        new<-paste0(formatC(ob+j, width=6, format = \"d\" , flag = \"0\"),of)\n",
    "        ans<- which (tt_G3$V2==new)\n",
    "        if(length(ans)>0){\n",
    "          cat(i,ans,\"\\n\")\n",
    "          #ttsub<-subset(ttt3,V2 %in% ttt3$V2[ans[1]])\n",
    "          ccsub <- subset(acc_csv, X33==new)\n",
    "          data<-rbind(data,ccsub)\n",
    "        }  \n",
    "      }    \n",
    "    }\n",
    "  }\n",
    " \n",
    "}\n",
    "\n",
    "write.table(data,file=\"D:/competition/sample/test.csv\",sep=\",\",row.names=F, na = \"NA\")\n"
   ]
  }
 ],
 "metadata": {
  "kernelspec": {
   "display_name": "R",
   "language": "R",
   "name": "ir"
  },
  "language_info": {
   "codemirror_mode": "r",
   "file_extension": ".r",
   "mimetype": "text/x-r-source",
   "name": "R",
   "pygments_lexer": "r",
   "version": "3.5.1"
  }
 },
 "nbformat": 4,
 "nbformat_minor": 2
}
