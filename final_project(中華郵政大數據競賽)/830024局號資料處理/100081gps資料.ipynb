{
 "cells": [
  {
   "cell_type": "code",
   "execution_count": 4,
   "metadata": {},
   "outputs": [],
   "source": [
    "import matplotlib.pyplot as plt\n",
    "import pandas as pd\n",
    "import numpy as np\n",
    "import math\n",
    "plt.rcParams['font.sans-serif'] = ['Microsoft JhengHei']\n",
    "plt.rcParams['axes.unicode_minus'] = False"
   ]
  },
  {
   "cell_type": "code",
   "execution_count": 5,
   "metadata": {},
   "outputs": [
    {
     "data": {
      "text/html": [
       "<div>\n",
       "<style scoped>\n",
       "    .dataframe tbody tr th:only-of-type {\n",
       "        vertical-align: middle;\n",
       "    }\n",
       "\n",
       "    .dataframe tbody tr th {\n",
       "        vertical-align: top;\n",
       "    }\n",
       "\n",
       "    .dataframe thead th {\n",
       "        text-align: right;\n",
       "    }\n",
       "</style>\n",
       "<table border=\"1\" class=\"dataframe\">\n",
       "  <thead>\n",
       "    <tr style=\"text-align: right;\">\n",
       "      <th></th>\n",
       "      <th>緯度</th>\n",
       "      <th>經度</th>\n",
       "      <th>狀態</th>\n",
       "    </tr>\n",
       "  </thead>\n",
       "  <tbody>\n",
       "    <tr>\n",
       "      <th>0</th>\n",
       "      <td>25.0365</td>\n",
       "      <td>121.5686</td>\n",
       "      <td>在外暫停</td>\n",
       "    </tr>\n",
       "    <tr>\n",
       "      <th>1</th>\n",
       "      <td>25.0367</td>\n",
       "      <td>121.5697</td>\n",
       "      <td>在外暫停</td>\n",
       "    </tr>\n",
       "    <tr>\n",
       "      <th>2</th>\n",
       "      <td>25.0368</td>\n",
       "      <td>121.5697</td>\n",
       "      <td>在外暫停</td>\n",
       "    </tr>\n",
       "    <tr>\n",
       "      <th>3</th>\n",
       "      <td>25.0369</td>\n",
       "      <td>121.5696</td>\n",
       "      <td>在外暫停</td>\n",
       "    </tr>\n",
       "    <tr>\n",
       "      <th>4</th>\n",
       "      <td>25.0369</td>\n",
       "      <td>121.5697</td>\n",
       "      <td>在外暫停</td>\n",
       "    </tr>\n",
       "  </tbody>\n",
       "</table>\n",
       "</div>"
      ],
      "text/plain": [
       "        緯度        經度    狀態\n",
       "0  25.0365  121.5686  在外暫停\n",
       "1  25.0367  121.5697  在外暫停\n",
       "2  25.0368  121.5697  在外暫停\n",
       "3  25.0369  121.5696  在外暫停\n",
       "4  25.0369  121.5697  在外暫停"
      ]
     },
     "execution_count": 5,
     "metadata": {},
     "output_type": "execute_result"
    }
   ],
   "source": [
    "accg3=pd.read_csv(\"100081.csv\")\n",
    "accg3.columns=[\"緯度\",\"經度\",\"狀態\"]\n",
    "accg3.head()"
   ]
  },
  {
   "cell_type": "code",
   "execution_count": 6,
   "metadata": {
    "scrolled": true
   },
   "outputs": [
    {
     "data": {
      "text/html": [
       "<div>\n",
       "<style scoped>\n",
       "    .dataframe tbody tr th:only-of-type {\n",
       "        vertical-align: middle;\n",
       "    }\n",
       "\n",
       "    .dataframe tbody tr th {\n",
       "        vertical-align: top;\n",
       "    }\n",
       "\n",
       "    .dataframe thead th {\n",
       "        text-align: right;\n",
       "    }\n",
       "</style>\n",
       "<table border=\"1\" class=\"dataframe\">\n",
       "  <thead>\n",
       "    <tr style=\"text-align: right;\">\n",
       "      <th></th>\n",
       "      <th>緯度</th>\n",
       "      <th>經度</th>\n",
       "    </tr>\n",
       "  </thead>\n",
       "  <tbody>\n",
       "    <tr>\n",
       "      <th>0</th>\n",
       "      <td>25.0365</td>\n",
       "      <td>121.5686</td>\n",
       "    </tr>\n",
       "    <tr>\n",
       "      <th>1</th>\n",
       "      <td>25.0367</td>\n",
       "      <td>121.5697</td>\n",
       "    </tr>\n",
       "    <tr>\n",
       "      <th>2</th>\n",
       "      <td>25.0368</td>\n",
       "      <td>121.5697</td>\n",
       "    </tr>\n",
       "    <tr>\n",
       "      <th>3</th>\n",
       "      <td>25.0369</td>\n",
       "      <td>121.5696</td>\n",
       "    </tr>\n",
       "    <tr>\n",
       "      <th>4</th>\n",
       "      <td>25.0369</td>\n",
       "      <td>121.5697</td>\n",
       "    </tr>\n",
       "  </tbody>\n",
       "</table>\n",
       "</div>"
      ],
      "text/plain": [
       "        緯度        經度\n",
       "0  25.0365  121.5686\n",
       "1  25.0367  121.5697\n",
       "2  25.0368  121.5697\n",
       "3  25.0369  121.5696\n",
       "4  25.0369  121.5697"
      ]
     },
     "execution_count": 6,
     "metadata": {},
     "output_type": "execute_result"
    }
   ],
   "source": [
    "s=accg3[[\"緯度\",\"經度\"]].copy()\n",
    "s.head()"
   ]
  },
  {
   "cell_type": "code",
   "execution_count": 7,
   "metadata": {},
   "outputs": [
    {
     "data": {
      "image/png": "[encoded data removed]",
      "text/plain": [
       "<Figure size 432x288 with 1 Axes>"
      ]
     },
     "metadata": {
      "needs_background": "light"
     },
     "output_type": "display_data"
    }
   ],
   "source": [
    "from sklearn import cluster, datasets, metrics\n",
    "silhouette_avgs = []\n",
    "#ks = range(2, s.shape[0])\n",
    "ks = range(2, 50)\n",
    "for k in ks:\n",
    "    kmeans_fit = cluster.KMeans(n_clusters = k,random_state=0).fit(s)\n",
    "    cluster_labels = kmeans_fit.labels_\n",
    "    silhouette_avg = metrics.silhouette_score(s, cluster_labels)\n",
    "    silhouette_avgs.append(silhouette_avg)"
   ]
  },
  {
   "cell_type": "code",
   "execution_count": 12,
   "metadata": {},
   "outputs": [
    {
     "data": {
      "image/png": "[encoded data removed]",
      "text/plain": [
       "<Figure size 720x720 with 1 Axes>"
      ]
     },
     "metadata": {
      "needs_background": "light"
     },
     "output_type": "display_data"
    }
   ],
   "source": [
    "fig = plt.figure(figsize = (10,10))\n",
    "plt.xlabel('分群數量',fontsize='15')\n",
    "plt.ylabel('績效',fontsize='15')   \n",
    "plt.bar(ks, silhouette_avgs)\n",
    "plt.savefig('3.png', dpi=300)  \n",
    "plt.show()"
   ]
  },
  {
   "cell_type": "code",
   "execution_count": 10,
   "metadata": {},
   "outputs": [
    {
     "name": "stdout",
     "output_type": "stream",
     "text": [
      "44\n"
     ]
    }
   ],
   "source": [
    "best_n_kemeans = silhouette_avgs.index(max(silhouette_avgs))\n",
    "print( best_n_kemeans)"
   ]
  },
  {
   "cell_type": "code",
   "execution_count": 13,
   "metadata": {
    "scrolled": false
   },
   "outputs": [
    {
     "name": "stdout",
     "output_type": "stream",
     "text": [
      "[ 0  1  2  3  4  5  6  7  8  9 10 11 12 13 14 15 16 17 18 19 20 21 22 23\n",
      " 24 25 26 27 28 29 30 31 32 33 34 35 36 37 38 39 40 41 42 43]\n",
      "[[ 25.05158    121.54914333]\n",
      " [ 25.067      121.57746667]\n",
      " [ 25.04104884 121.56594419]\n",
      " [ 25.05285882 121.53055882]\n",
      " [ 25.05049811 121.55748491]\n",
      " [ 25.05817931 121.54401379]\n",
      " [ 25.04161842 121.55802895]\n",
      " [ 25.06265    121.5618    ]\n",
      " [ 25.07307059 121.57594706]\n",
      " [ 25.056925   121.591675  ]\n",
      " [ 25.05138182 121.54412121]\n",
      " [ 25.06142857 121.551     ]\n",
      " [ 25.048325   121.54675714]\n",
      " [ 25.068892   121.582956  ]\n",
      " [ 25.03704167 121.56930833]\n",
      " [ 25.06198333 121.53145556]\n",
      " [ 25.04771818 121.55331364]\n",
      " [ 25.045      121.5339    ]\n",
      " [ 25.04618333 121.56673333]\n",
      " [ 25.03902373 121.56894407]\n",
      " [ 25.04492222 121.55735   ]\n",
      " [ 25.0485875  121.5372375 ]\n",
      " [ 25.04819167 121.5496    ]\n",
      " [ 25.06073846 121.54390462]\n",
      " [ 25.0477125  121.54409583]\n",
      " [ 25.05154783 121.55392174]\n",
      " [ 25.05552174 121.54867391]\n",
      " [ 25.04116818 121.56134091]\n",
      " [ 25.07396087 121.57851739]\n",
      " [ 25.04779697 121.5576697 ]\n",
      " [ 25.05074167 121.56215   ]\n",
      " [ 25.06208333 121.55475   ]\n",
      " [ 25.03995    121.57155   ]\n",
      " [ 25.05006364 121.54430606]\n",
      " [ 25.05       121.5732    ]\n",
      " [ 25.05089469 121.54772655]\n",
      " [ 25.05221    121.53968   ]\n",
      " [ 25.0409     121.5773    ]\n",
      " [ 25.0632375  121.5656375 ]\n",
      " [ 25.0518     121.5832    ]\n",
      " [ 25.04084667 121.56805667]\n",
      " [ 25.05475556 121.54403333]\n",
      " [ 25.05738696 121.54423913]\n",
      " [ 25.0453     121.57022   ]]\n"
     ]
    },
    {
     "data": {
      "image/png": "[encoded data removed]",
      "text/plain": [
       "<Figure size 1440x1440 with 1 Axes>"
      ]
     },
     "metadata": {
      "needs_background": "light"
     },
     "output_type": "display_data"
    }
   ],
   "source": [
    "from sklearn.cluster import KMeans\n",
    "clf = KMeans(n_clusters=best_n_kemeans,random_state=0 )\n",
    "clf.fit(s)\n",
    "clf.labels_\n",
    "fig = plt.figure(figsize = (20,20))\n",
    "plt.scatter(s['經度'],s['緯度'], alpha=0.6,c=clf.labels_) \n",
    "print ( np.unique(clf.labels_)  )\n",
    "centers = clf.cluster_centers_\n",
    "\n",
    "for i in centers:\n",
    "    plt.scatter(i[1],i[0], marker='*',c='r',s=300) \n",
    "plt.savefig('4.png', dpi=300)  \n",
    "print (centers)"
   ]
  },
  {
   "cell_type": "code",
   "execution_count": 6,
   "metadata": {},
   "outputs": [],
   "source": [
    "longitude =[]\n",
    "latitude = []\n",
    "for i in centers:\n",
    "    latitude.append(i[0])\n",
    "    longitude.append(i[1])"
   ]
  },
  {
   "cell_type": "code",
   "execution_count": 14,
   "metadata": {
    "scrolled": true
   },
   "outputs": [
    {
     "name": "stdout",
     "output_type": "stream",
     "text": [
      "[0.6666666666666666, 0.6428571428571429, 0.5952380952380952, 0.5151515151515151, 0.6896551724137931, 0.7037037037037037, 0.6216216216216216, 0.6578947368421053, 0.5897435897435898, 0.46153846153846156, 0.5945945945945946, 0.7058823529411765, 0.5, 0.717948717948718, 0.6744186046511628, 0.6428571428571429, 0.5, 0.7222222222222222, 0.5853658536585366, 0.7317073170731707, 0.6944444444444444, 0.6538461538461539, 0.5833333333333334, 0.6046511627906976, 0.5806451612903226, 0.574468085106383, 0.53125, 0.5405405405405406, 0.6571428571428571, 0.6216216216216216, 0.6829268292682927, 0.6388888888888888, 0.5609756097560976, 0.5142857142857142, 0.5151515151515151, 0.7105263157894737, 0.7073170731707317, 0.5490196078431373, 0.6944444444444444, 0.6551724137931034, 0.625, 0.6842105263157895, 0.6666666666666666, 0.7058823529411765] \n",
      "\n",
      "[0.59375, 0.5, 0.6153846153846154, 0.7209302325581395, 0.5434782608695652, 0.5, 0.5714285714285714, 0.7631578947368421, 0.6875, 0.6410256410256411, 0.6363636363636364, 0.675, 0.5384615384615384, 0.7058823529411765, 0.5714285714285714, 0.7142857142857143, 0.5666666666666667, 0.6, 0.6666666666666666, 0.5333333333333333, 0.75, 0.48717948717948717, 0.6857142857142857, 0.7027027027027027, 0.5714285714285714, 0.5428571428571428, 0.53125, 0.71875, 0.7666666666666667, 0.6285714285714286, 0.6060606060606061, 0.6666666666666666, 0.55, 0.6052631578947368, 0.7, 0.6285714285714286, 0.5945945945945946, 0.7142857142857143, 0.5609756097560976, 0.7105263157894737, 0.5135135135135135, 0.6956521739130435, 0.5454545454545454, 0.6470588235294118]\n"
     ]
    }
   ],
   "source": [
    "import random\n",
    "\n",
    "#假設上午投遞成功和失敗信件數\n",
    "morn_success = 1000\n",
    "morn_fail = 600\n",
    "\n",
    "#假設下午投遞成功和失敗信件數\n",
    "after_success = 1000\n",
    "after_fail = 600\n",
    "\n",
    "capacity=100\n",
    "total=['1' for i in range(morn_success) ]+['2' for i in range(morn_fail) ]+['3' for i in range(morn_success) ]+['4' for i in range(morn_fail) ]\n",
    "\n",
    "\n",
    "#打散所有信件\n",
    "random.shuffle(total)\n",
    "\n",
    "customer=['a' for i in range(best_n_kemeans)]\n",
    "\n",
    "#將每一筆信件隨機分給一個客戶\n",
    "for i in total: \n",
    "    n=random.randint(0,best_n_kemeans-1)\n",
    "    customer[n]+=i\n",
    "    \n",
    "morn=[]\n",
    "after=[]\n",
    "\n",
    "#計算每位客戶的上午投遞成功率和失敗率\n",
    "for i in range(best_n_kemeans):\n",
    "    morn.append(customer[i].count('1')/(customer[i].count('1')+customer[i].count('2') ))\n",
    "    after.append(customer[i].count('3')/(customer[i].count('3')+customer[i].count('4') ))\n",
    "\n",
    "print (morn,'\\n')\n",
    "print (after)\n",
    "    \n",
    "\n"
   ]
  },
  {
   "cell_type": "code",
   "execution_count": 23,
   "metadata": {},
   "outputs": [],
   "source": [
    "#https://www.wandouip.com/t5i7242/\n",
    "# acc第一季的平均包裹重量，採取累積數量前80% 0~3500公克之間的重量資料，平均數:1265,標準差:855\n",
    "# 所有重量的平均數:：3029   標準差:3694 中位數:1534\n",
    "#average_weight = 1265\n",
    "#sd_weight = 855\n",
    "\n",
    "#mu, sigma =average_weight , sd_weight\n",
    "#weight=[]\n",
    "#while True:\n",
    "#    if len(weight)== best_n_kemeans:\n",
    "#        break        \n",
    "#    y = np.random.normal(mu, sigma)\n",
    "#    if y <= mu+sigma and y >= mu-sigma:\n",
    "#        weight.append(y)"
   ]
  },
  {
   "cell_type": "code",
   "execution_count": 22,
   "metadata": {},
   "outputs": [
    {
     "name": "stdout",
     "output_type": "stream",
     "text": [
      "[ 5332.78177414   820.4419844   2571.96378447   345.81230716\n",
      " 13653.87819615    94.03290734  5013.47834829  7771.63246846\n",
      "   391.5629493   1083.52561805  3341.90935677  2568.46613481\n",
      "  1985.54096993  3351.54304835  4965.84532155   967.95398231\n",
      "  5271.57001671  2538.47198488  3434.20645832   930.82251505\n",
      "  1599.70088009   161.96964902   609.76781102  3823.44762478\n",
      "  1013.87362621  2698.58568782 13902.73125072  5258.76665518\n",
      "   589.07526623  3511.70651967 12367.76783719   425.95761583\n",
      "  7776.10428206   439.94213455  4152.35825205   227.36448953\n",
      "  5567.55993152   440.97556504  3267.04489785  3615.60729073\n",
      "  1087.79040504  4257.3710066   3044.8891836   5065.7988136 ]\n"
     ]
    },
    {
     "data": {
      "image/png": "[encoded data removed]",
      "text/plain": [
       "<Figure size 432x288 with 1 Axes>"
      ]
     },
     "metadata": {
      "needs_background": "light"
     },
     "output_type": "display_data"
    },
    {
     "data": {
      "image/png": "[encoded data removed]",
      "text/plain": [
       "<Figure size 432x288 with 1 Axes>"
      ]
     },
     "metadata": {
      "needs_background": "light"
     },
     "output_type": "display_data"
    },
    {
     "name": "stdout",
     "output_type": "stream",
     "text": [
      "[2, 1, 1, 1, 3, 1, 2, 2, 1, 1, 1, 1, 1, 1, 1, 1, 2, 1, 1, 1, 1, 1, 1, 1, 1, 1, 3, 2, 1, 1, 3, 1, 2, 1, 1, 1, 2, 1, 1, 1, 1, 1, 1, 2]\n"
     ]
    }
   ],
   "source": [
    "#https://www.jianshu.com/p/c8b684d2d53d\n",
    "weight = np.random.exponential(3029,best_n_kemeans)\n",
    "print (weight)\n",
    "plt.hist(weight,bins=8,color='g',edgecolor='b',alpha=0.4)\n",
    "plt.show()\n",
    "\n",
    "\n",
    "weight_unit=[] \n",
    "\n",
    "for i in weight:\n",
    "    if i < 5000:\n",
    "        weight_unit.append(1)\n",
    "    elif i >=5000 and i < 10000:\n",
    "        weight_unit.append(2)\n",
    "    elif i >=10000 and i <15000:\n",
    "        weight_unit.append(3)\n",
    "    else:\n",
    "        weight_unit.append(4)\n",
    "\n",
    "plt.hist(weight_unit,bins=8,color='g',edgecolor='b',alpha=0.4)\n",
    "plt.show()\n",
    "\n",
    "print (weight_unit)\n"
   ]
  },
  {
   "cell_type": "code",
   "execution_count": 21,
   "metadata": {},
   "outputs": [],
   "source": [
    "#weight = np.random.poisson(3029,best_n_kemeans)\n",
    "#plt.hist(weight,bins=8,color='g',edgecolor='b',alpha=0.4)\n",
    "#plt.show()\n",
    "#print (weight)"
   ]
  },
  {
   "cell_type": "code",
   "execution_count": 17,
   "metadata": {},
   "outputs": [],
   "source": [
    "import csv\n",
    "with open('1001081_kmeans.csv', 'w', newline='') as csvfile:\n",
    "    # 以空白分隔欄位，建立 CSV 檔寫入器\n",
    "    writer = csv.writer(csvfile, delimiter=',')\n",
    "    writer.writerow(['號碼', '緯度', '經度','上午投遞成功率','下午投遞成功率','重量','重量單位','郵局'])\n",
    "    writer.writerow([0,25.05125,121.54823,\"NaN\",\"NaN\",\"NaN\",\"NaN\",1])\n",
    "    for i in range(0,best_n_kemeans):\n",
    "        writer.writerow([i+1, latitude[i], longitude[i],morn[i],after[i],weight[i],weight_unit[i],0])\n",
    "\n",
    "        \n",
    "#臺北體育場郵局:南京東路3段346號後棟  25.051250, 121.548230        "
   ]
  },
  {
   "cell_type": "code",
   "execution_count": 10,
   "metadata": {},
   "outputs": [
    {
     "ename": "OverflowError",
     "evalue": "math range error",
     "output_type": "error",
     "traceback": [
      "\u001b[1;31m---------------------------------------------------------------------------\u001b[0m",
      "\u001b[1;31mOverflowError\u001b[0m                             Traceback (most recent call last)",
      "\u001b[1;32m<ipython-input-10-b3e9edca3bf8>\u001b[0m in \u001b[0;36m<module>\u001b[1;34m\u001b[0m\n\u001b[0;32m      7\u001b[0m \u001b[1;33m\u001b[0m\u001b[0m\n\u001b[0;32m      8\u001b[0m \u001b[1;32mfor\u001b[0m \u001b[0mi\u001b[0m \u001b[1;32min\u001b[0m \u001b[0mrange\u001b[0m\u001b[1;33m(\u001b[0m\u001b[1;36m50\u001b[0m\u001b[1;33m)\u001b[0m\u001b[1;33m:\u001b[0m\u001b[1;33m\u001b[0m\u001b[1;33m\u001b[0m\u001b[0m\n\u001b[1;32m----> 9\u001b[1;33m     \u001b[0my\u001b[0m \u001b[1;33m=\u001b[0m \u001b[0mrandom\u001b[0m\u001b[1;33m.\u001b[0m\u001b[0mlognormvariate\u001b[0m\u001b[1;33m(\u001b[0m\u001b[0mmu\u001b[0m\u001b[1;33m,\u001b[0m \u001b[0msigma\u001b[0m\u001b[1;33m)\u001b[0m\u001b[1;33m\u001b[0m\u001b[1;33m\u001b[0m\u001b[0m\n\u001b[0m\u001b[0;32m     10\u001b[0m     \u001b[0mprint\u001b[0m \u001b[1;33m(\u001b[0m\u001b[0my\u001b[0m\u001b[1;33m)\u001b[0m\u001b[1;33m\u001b[0m\u001b[1;33m\u001b[0m\u001b[0m\n",
      "\u001b[1;32mD:\\anaconda\\envs\\python36\\lib\\random.py\u001b[0m in \u001b[0;36mlognormvariate\u001b[1;34m(self, mu, sigma)\u001b[0m\n\u001b[0;32m    430\u001b[0m \u001b[1;33m\u001b[0m\u001b[0m\n\u001b[0;32m    431\u001b[0m         \"\"\"\n\u001b[1;32m--> 432\u001b[1;33m         \u001b[1;32mreturn\u001b[0m \u001b[0m_exp\u001b[0m\u001b[1;33m(\u001b[0m\u001b[0mself\u001b[0m\u001b[1;33m.\u001b[0m\u001b[0mnormalvariate\u001b[0m\u001b[1;33m(\u001b[0m\u001b[0mmu\u001b[0m\u001b[1;33m,\u001b[0m \u001b[0msigma\u001b[0m\u001b[1;33m)\u001b[0m\u001b[1;33m)\u001b[0m\u001b[1;33m\u001b[0m\u001b[1;33m\u001b[0m\u001b[0m\n\u001b[0m\u001b[0;32m    433\u001b[0m \u001b[1;33m\u001b[0m\u001b[0m\n\u001b[0;32m    434\u001b[0m \u001b[1;31m## -------------------- exponential distribution --------------------\u001b[0m\u001b[1;33m\u001b[0m\u001b[1;33m\u001b[0m\u001b[1;33m\u001b[0m\u001b[0m\n",
      "\u001b[1;31mOverflowError\u001b[0m: math range error"
     ]
    }
   ],
   "source": [
    "#import random\n",
    "\n",
    "#average_weight = 3029\n",
    "#sd_weight = 3694\n",
    "\n",
    "#mu, sigma =average_weight , sd_weight\n",
    "\n",
    "#for i in range(50):   \n",
    "#    y = random.lognormvariate(mu, sigma)\n",
    "#    print (y)"
   ]
  },
  {
   "cell_type": "code",
   "execution_count": 9,
   "metadata": {},
   "outputs": [
    {
     "name": "stdout",
     "output_type": "stream",
     "text": [
      "2.5564536421729885e+43\n"
     ]
    }
   ],
   "source": [
    "print (random.lognormvariate(100, 5) )\n"
   ]
  },
  {
   "cell_type": "code",
   "execution_count": 10,
   "metadata": {},
   "outputs": [
    {
     "data": {
      "text/plain": [
       "7863.818024771451"
      ]
     },
     "execution_count": 10,
     "metadata": {},
     "output_type": "execute_result"
    }
   ],
   "source": [
    "random.normalvariate(3029, 3694)\n"
   ]
  },
  {
   "cell_type": "code",
   "execution_count": 44,
   "metadata": {
    "scrolled": true
   },
   "outputs": [
    {
     "data": {
      "image/png": "[encoded data removed]",
      "text/plain": [
       "<Figure size 432x288 with 1 Axes>"
      ]
     },
     "metadata": {
      "needs_background": "light"
     },
     "output_type": "display_data"
    },
    {
     "name": "stdout",
     "output_type": "stream",
     "text": [
      "[2.71293107e+03 2.30154681e+03 1.92845426e+03 4.46071707e+03\n",
      " 3.90708626e+03 7.62804658e+03 3.06880530e+03 7.97101713e+02\n",
      " 1.07549635e+03 6.13171167e+03 1.51689604e+03 8.07352528e+02\n",
      " 1.58526759e+03 1.51529247e+03 1.11275053e+03 2.54546594e+03\n",
      " 3.23104804e+02 8.92173475e+02 1.42206378e+03 3.39248463e+03\n",
      " 6.38220027e+03 1.26748330e+03 4.39093127e+03 1.90823935e+03\n",
      " 5.70530426e+02 4.15229694e+03 4.17518926e+03 2.41478974e+02\n",
      " 2.67535185e+03 1.24737745e+02 3.30416707e+02 3.30870069e+03\n",
      " 3.33350932e+02 1.36128806e+03 1.19517031e+03 1.89531856e+03\n",
      " 1.60131058e+03 4.64206455e+02 2.42726787e+03 2.39738271e+03\n",
      " 9.93459400e+02 1.13023280e+04 3.68387600e+02 3.89826210e+03\n",
      " 1.93986699e+03 7.42167404e+03 1.61372925e+04 1.22819066e+03\n",
      " 3.53971216e+02 5.45862242e+03 3.71634467e+03 1.65234228e+03\n",
      " 2.67968198e+03 6.62145530e+03 1.41732144e+03 3.17954159e+02\n",
      " 4.32997427e+03 1.21981579e+03 2.75278104e+03 5.20295443e+02\n",
      " 1.88027767e+03 5.58362074e+02 2.94779495e+03 1.44802568e+02\n",
      " 8.39581599e+02 1.12791778e+03 4.24132767e+03 6.18830053e+03\n",
      " 4.54977258e+03 5.23025966e+03 1.89318964e+02 2.89076042e+03\n",
      " 2.68009554e+03 3.35795366e+03 1.04268931e+03 5.55664325e+03\n",
      " 1.38686142e+03 1.58109669e+03 2.11052568e+01 2.68419110e+03\n",
      " 4.10577010e+03 9.86198099e+02 6.46724643e+03 7.89242685e+02\n",
      " 1.28045881e+03 1.48794215e+03 1.96039393e+03 2.43698198e+02\n",
      " 3.22289256e+02 1.86854490e+02 5.38707685e+02 8.37121718e+01\n",
      " 2.04888764e+02 3.78068240e+03 3.58902068e+03 1.84637711e+03\n",
      " 1.11852411e+04 2.53251108e+02 7.28580838e+02 3.50830609e+03\n",
      " 2.19804469e+03 6.77997809e+02 1.41858680e+03 1.11956578e+03\n",
      " 5.21031949e+03 1.02065440e+03 6.55089760e+01 4.28310255e+03\n",
      " 7.63782579e+03 1.55198039e+03 1.11354737e+03 7.65029174e+03\n",
      " 1.59605687e+03 1.25041194e+04 1.44399138e+02 3.21900056e+02\n",
      " 3.66588757e+03 2.86795202e+03 4.74380988e+02 8.35863582e+02\n",
      " 9.93616353e+03 1.62200044e+03 2.14151964e+03 3.42865746e+03\n",
      " 5.13890022e+03 3.15654933e+03 7.84775044e+03 3.14530441e+02\n",
      " 3.35744252e+02 2.78171103e+03 4.68962015e+02 1.56445360e+03\n",
      " 9.55362935e+02 2.16342266e+03 2.98335323e+03 8.63755792e+02\n",
      " 1.52586903e+02 3.05311169e+03 2.63877983e+03 7.99673955e+02\n",
      " 4.39249346e+02 6.35859578e+03 7.23920768e+03 2.78632775e+02\n",
      " 2.87774552e+03 1.52619009e+02 5.75903081e+02 1.75373373e+03\n",
      " 5.49948251e+03 1.62774175e+02 2.01270024e+01 2.47688248e+02\n",
      " 3.72883210e+03 2.14555249e+03 6.80117104e+03 7.94067587e+02\n",
      " 8.53728360e+03 1.61047042e+03 1.91668490e+03 2.64229992e+03\n",
      " 1.16208345e+03 5.48739844e+01 3.26984807e+03 2.29995467e+02\n",
      " 9.27867344e+02 2.02576973e+03 3.20614499e+03 6.16437408e+02\n",
      " 2.05902724e+03 1.15505858e+04 2.24270711e+03 1.80275823e+02\n",
      " 1.57025496e+03 2.93815827e+03 1.07085014e+04 2.36406721e+03\n",
      " 1.59685150e+03 1.20353390e+03 3.51321472e+02 1.99922883e+03\n",
      " 4.14758903e+02 1.03491452e+04 1.31231887e+04 6.26781457e+02\n",
      " 2.70887513e+03 1.06362560e+03 1.08763407e+03 4.16197618e+03\n",
      " 9.36183138e+03 4.65890063e+03 3.42142222e+02 1.32554112e+04\n",
      " 8.31175066e+03 5.34691670e+03 2.24896880e+03 4.37458529e+02\n",
      " 1.64655070e+03 3.96366045e+03 2.18274563e+03 1.34267978e+04\n",
      " 6.40695148e+03 1.85193738e+03 2.32685247e+03 4.66439099e+03\n",
      " 8.41954685e+02 1.28810867e+02 5.21864109e+03 2.28128064e+03\n",
      " 4.55808529e+03 1.37331902e+03 5.58773434e+03 3.60344068e+02\n",
      " 1.03053662e+03 6.96838290e+03 5.49674858e+01 1.34586765e+04\n",
      " 1.47418116e+03 1.97949753e+03 1.13603707e+03 1.81461641e+03\n",
      " 2.24079499e+03 2.10327250e+03 3.45558157e+03 6.67440396e+03\n",
      " 1.47191739e+03 3.20482494e+03 4.09015254e+02 7.10093756e+03\n",
      " 2.29753525e+03 1.74148426e+03 7.78384590e+01 2.41883969e+03\n",
      " 2.18821427e+03 4.89053467e+02 1.03285835e+03 1.77222738e+02\n",
      " 2.18863950e+02 4.31552164e+03 1.25333426e+03 3.76313423e+03\n",
      " 4.29833107e+03 1.37625684e+03 1.50484242e+03 9.27772061e+02\n",
      " 1.40057705e+03 6.87159457e+03 1.17263258e+03 5.55604358e+02\n",
      " 2.13687425e+03 1.32604098e+03 1.27061600e+03 8.03642770e+02\n",
      " 1.69990813e+02 1.29738276e+02 2.72974837e+03 6.90148846e+03\n",
      " 5.41217065e+03 1.34421380e+03 3.73306438e+03 1.76511795e+03\n",
      " 2.96219543e+02 3.39334634e+03 1.53276904e+03 2.91263715e+03\n",
      " 1.37120166e+02 6.20721597e+02 2.64566198e+03 3.73031533e+03\n",
      " 3.47770306e+03 1.04996497e+03 2.17886765e+02 5.65337053e+03\n",
      " 1.43118597e+03 2.34189761e+03 1.72518200e+03 1.68352248e+03\n",
      " 3.23552338e+03 4.74370277e+03 3.24820127e+03 1.46124941e+03\n",
      " 1.02028737e+03 7.21788004e+03 8.78044535e+03 5.74852832e+03\n",
      " 2.61618160e+03 3.10138361e+03 5.23768779e+03 3.15769752e+03\n",
      " 3.64129996e+03 3.43524499e+03 9.32490186e+01 4.53060459e+02\n",
      " 1.01713518e+04 3.65422216e+03 7.23477082e+03 4.88048234e+03\n",
      " 7.43905021e+03 3.98296177e+03 2.22147103e+03 1.04055897e+03\n",
      " 3.99550055e+03 4.28990871e+03 4.07148187e+03 1.59347363e+03\n",
      " 6.05991383e+03 2.63353079e+03 1.80026622e+03 5.18052127e+02\n",
      " 1.00608010e+03 8.47439631e+02 1.23740505e+04 9.56624815e+01\n",
      " 1.69758742e+03 2.67136033e+03 8.04073640e+02 1.73693690e+02\n",
      " 7.35475098e+03 1.38930989e+03 1.56587755e+03 6.07175707e+02\n",
      " 1.16711591e+03 2.03963319e+03 4.23227348e+03 7.92828449e+03\n",
      " 2.45760369e+02 1.88914938e+03 1.19623955e+02 5.46753524e+03\n",
      " 2.51872318e+03 1.18641729e+03 2.44467945e+03 5.72590896e+02\n",
      " 6.27859856e+02 4.63162428e+03 8.33060080e+03 1.27203949e+03\n",
      " 3.30100656e+00 1.92093092e+02 5.02858936e+02 2.16342670e+03\n",
      " 1.62373224e+03 6.64242885e+02 9.55626886e+02 3.63563651e+03\n",
      " 2.00729184e+03 5.05264313e+03 4.94948503e+02 7.40630228e+03\n",
      " 3.36572200e+01 7.03028338e+03 2.75963543e+03 3.21778645e+03\n",
      " 4.58481948e+02 2.94261220e+03 3.13834445e+03 8.12526690e+02\n",
      " 7.35492421e+03 1.62449656e+03 1.24854155e+03 1.49562280e+03\n",
      " 2.78158976e+03 3.59254284e+03 5.24641226e+03 1.19853932e+03\n",
      " 1.02214350e+04 3.32547356e+03 4.42991878e+02 4.69429392e+02\n",
      " 5.23673745e+03 1.06846993e+03 4.90743032e+03 2.60073619e+03\n",
      " 3.21794407e+03 1.14363829e+02 4.71222430e+03 3.11229918e+02\n",
      " 2.70452472e+03 4.02151120e+03 1.23262864e+02 2.42824905e+03\n",
      " 1.10689705e+03 2.12505217e+03 5.08012960e+03 1.84862669e+02\n",
      " 1.39576879e+03 2.77211200e+03 3.70853937e+02 1.81825107e+03\n",
      " 2.03322282e+03 6.01198681e+03 1.64438539e+03 7.33378753e+02\n",
      " 1.39853053e+03 1.40532220e+03 1.34804724e+03 1.11739169e+03\n",
      " 3.99823831e+03 1.76194031e+03 3.96399910e+03 1.36900575e+03\n",
      " 2.16738577e+03 1.79129748e+04 2.33109287e+03 1.77275475e+03\n",
      " 6.52403117e+03 4.90877966e+03 2.70714557e+03 2.38038115e+02\n",
      " 6.87352918e+03 1.37304504e+04 5.02775282e+03 1.97350323e+03\n",
      " 5.67723349e+03 4.38168117e+03 3.10332322e+03 3.78633474e+03\n",
      " 4.70790452e+02 9.86199633e+02 1.00292880e+03 4.68624480e+02\n",
      " 2.20336775e+03 6.59779511e+02 2.86011293e+03 1.81177358e+03\n",
      " 1.54844827e+04 4.75732425e+02 3.20986878e+02 9.94197333e+03\n",
      " 4.41684367e+03 1.30783774e+02 7.74645471e+02 1.09313575e+03\n",
      " 5.82052419e+03 2.31223737e+03 7.49273171e+03 1.67794537e+03\n",
      " 2.40128645e+03 8.95645150e+03 2.55532164e+02 5.80885070e+03\n",
      " 3.61843536e+03 2.14821099e+03 3.73937443e+02 8.53367092e+02\n",
      " 2.19592475e+02 4.31743879e+02 4.51991763e+03 3.95516397e+02\n",
      " 6.36625631e+03 6.23550753e+03 1.21225365e+03 4.61365393e+03\n",
      " 5.55151182e+03 3.66418908e+02 2.21821503e+03 1.01307560e+02\n",
      " 2.53093700e+03 3.04931014e+03 2.62684728e+03 1.98506435e+03\n",
      " 7.85835107e+03 1.51513531e+03 1.29425783e+03 3.18933095e+02\n",
      " 6.02886405e+03 2.36474804e+03 3.02365735e+03 1.33314390e+03\n",
      " 1.22406326e+03 8.74848243e+02 8.17873272e+02 6.54206338e+02\n",
      " 9.84520242e+02 6.81159651e+02 8.59277174e+02 1.87661472e+03\n",
      " 9.15201121e+02 3.15363843e+02 6.61022126e+02 2.79792387e+03\n",
      " 1.40425295e+03 8.48803219e+02 4.34048389e+03 8.64016618e+02\n",
      " 8.08254292e+03 4.00309544e+03 1.16002913e+03 1.71817704e+03\n",
      " 1.32363790e+03 1.04077500e+03 9.46088282e+03 4.09268557e+03\n",
      " 3.02600238e+03 3.90773246e+03 2.76330630e+03 4.41172816e+03\n",
      " 3.67666455e+03 9.24571588e+02 1.18264933e+03 8.46197734e+01\n",
      " 9.57182053e+02 1.01243281e+04 5.00857149e+03 9.11706431e+02\n",
      " 3.47538225e+03 1.09965781e+03 4.93736936e+02 8.82980441e+03\n",
      " 1.46655192e+04 1.09665800e+03 1.14018328e+03 1.42998578e+04\n",
      " 2.46100871e+04 3.13583468e+03 2.71907625e+03 5.72559914e+02\n",
      " 4.85985889e+03 2.39098800e+03 3.36591035e+02 4.93673197e+03\n",
      " 1.10755817e+04 2.82983883e+03 3.02559118e+03 2.51614911e+03\n",
      " 1.01167730e+04 2.38684639e+03 6.69757537e+03 2.59732428e+02\n",
      " 1.93494901e+03 6.45615999e+03 5.41910695e+03 1.64937199e+03\n",
      " 2.68836049e+03 5.16210550e+03 4.73502821e+02 6.11805367e+03\n",
      " 6.01469084e+03 1.26779380e+04 5.16519715e+03 2.00079846e+04\n",
      " 5.56829812e+02 7.86148913e+03 2.26764897e+03 2.89833645e+03\n",
      " 5.96144454e+02 2.10284301e+03 1.33662430e+04 1.57696501e+03\n",
      " 4.24436011e+03 1.33207110e+03 7.65205328e+02 1.33262387e+03\n",
      " 2.13831487e+01 3.36773904e+03 4.43313791e+02 1.27573054e+03\n",
      " 2.25544552e+03 8.27803654e+02 2.40332128e+03 1.07258999e+03\n",
      " 6.20976695e+03 6.62267864e+03 3.06933496e+03 4.65459627e+03\n",
      " 1.23277955e+03 1.29997009e+03 1.99327777e+03 5.19449964e+03\n",
      " 2.41613145e+03 4.05050032e+01 1.29972657e+03 5.38752417e+03\n",
      " 1.45591077e+03 1.83195326e+03 7.30158384e+02 6.02350467e+02\n",
      " 2.17208521e+03 3.69977180e+03 1.38142447e+03 1.89520650e+03\n",
      " 3.36519947e+03 2.81336914e+03 3.37561197e+03 4.14868080e+02\n",
      " 8.89437021e+02 6.72210195e+03 1.52996784e+03 2.69692802e+03\n",
      " 5.81855539e+01 2.29363046e+03 2.88857733e+03 1.13953803e+04\n",
      " 5.76291172e+03 2.44826862e+02 2.61564455e+03 2.10141518e+01\n",
      " 2.03508760e+01 4.05719638e+03 3.27500920e+03 1.90698753e+02\n",
      " 5.40002071e+03 2.66765294e+03 4.13651053e+02 3.08920234e+03\n",
      " 3.19959960e+03 8.72491973e+01 5.55608202e+02 6.25274495e+02\n",
      " 1.45596072e+03 8.95298745e+02 2.32476403e+02 6.27507466e+03\n",
      " 2.90435034e+03 3.97240506e+03 3.80986408e+02 3.51006137e+01\n",
      " 7.70152304e+02 1.07896718e+03 1.04818765e+03 4.95521197e+03\n",
      " 3.60010863e+03 2.20556463e+03 1.22310228e+03 3.73444017e+03\n",
      " 9.03588647e+02 5.41461277e+02 2.15139175e+03 4.65983089e+02\n",
      " 9.40411429e+03 4.07507851e+03 1.31540552e+03 3.52393662e+02\n",
      " 1.63646256e+02 2.16029274e+02 2.60782499e+03 2.91699318e+03\n",
      " 1.55059589e+03 6.64172246e+03 3.70634688e+03 5.56897739e+03\n",
      " 3.21718736e+03 7.68960184e+03 1.11615962e+03 3.83923474e+02\n",
      " 5.96027112e+02 1.51919099e+03 4.33986857e+03 1.71370909e+03\n",
      " 3.44355407e+03 1.78046452e+03 1.85792772e+03 5.29056525e+01\n",
      " 8.05397725e+02 2.31651104e+03 5.63221590e+03 5.21317153e+03\n",
      " 6.69498288e+03 6.08637484e+03 2.98747057e+03 1.19805048e+04\n",
      " 1.14150617e+04 4.53258931e+02 8.86386405e+02 2.68829516e+03\n",
      " 1.88627649e+03 1.69154654e+02 2.04887188e+03 1.09490531e+01\n",
      " 3.34058606e+03 5.62148153e+03 1.62588196e+03 6.67886471e+02\n",
      " 2.77448165e+03 5.05221976e+02 7.16363619e+03 2.75412804e+03\n",
      " 6.93667387e+03 2.62562261e+03 6.24178755e+02 2.75010136e+03\n",
      " 6.87036391e+02 1.55732461e+03 1.98062593e+03 1.96816250e+03\n",
      " 4.16513446e+02 3.89632353e+03 4.33475141e+03 2.03215731e+03\n",
      " 3.16300619e+03 1.70767494e+02 8.38016770e+02 1.96645043e+03\n",
      " 6.28471998e+03 1.29907212e+04 3.08621998e+03 2.41740761e+03\n",
      " 3.79215478e+02 1.16353823e+03 4.56235002e+03 6.03511532e+02\n",
      " 4.73767333e+03 1.03882870e+03 2.14107408e+03 8.54367299e+02\n",
      " 6.49363248e+02 1.17709726e+03 4.68006994e+03 1.83905030e+03\n",
      " 1.75028314e+03 5.32349231e+03 1.28132902e+03 4.69934723e+03\n",
      " 1.40237969e+02 1.15531404e+04 2.63914201e+03 1.13879644e+03\n",
      " 2.78257877e+02 1.39187240e+03 2.47191145e+03 9.67669318e+02\n",
      " 1.03602660e+03 4.61755284e+03 1.79330010e+03 1.51043135e+04\n",
      " 9.34420711e+03 1.18285233e+03 2.74125380e+03 4.53412470e+03\n",
      " 6.10780486e+03 2.33768219e+03 9.48291287e+01 3.01743023e+03\n",
      " 4.64765169e+03 1.14045473e+04 1.02117417e+04 4.47513696e+03\n",
      " 1.30975318e+03 1.51471189e+02 6.71300528e+02 2.89959625e+03\n",
      " 3.77978500e+02 1.83769991e+03 7.10101589e+02 3.83929067e+03\n",
      " 1.05738596e+02 7.26892302e+03 3.65997020e+02 7.33253788e+03\n",
      " 2.18098758e+03 5.96183666e+02 3.78766185e+03 2.12363637e+03\n",
      " 3.66997855e+03 1.56235908e+03 4.65194653e+03 3.84610008e+03\n",
      " 2.68145009e+03 1.64361911e+03 3.74267229e+03 6.77692861e+02\n",
      " 3.15228654e+03 8.88651151e+01 8.21183647e+03 2.46195166e+03\n",
      " 1.07381437e+03 2.20796883e+03 1.85083374e+02 1.06344111e+02\n",
      " 1.45707896e+02 3.39490875e+03 5.41350592e+03 8.60619448e+03\n",
      " 2.06312450e+03 9.54634043e+02 8.24998383e+03 2.28593168e+03\n",
      " 1.34199605e+02 2.58677300e+03 1.73601575e+03 1.26440890e+03\n",
      " 4.47333575e+03 2.86501819e+03 1.60274694e+03 9.37472610e+02\n",
      " 2.27359552e+03 3.25684524e+03 1.23694702e+04 4.05329706e+02\n",
      " 3.81808715e+03 5.69343189e+02 3.66914557e+03 3.87163539e+02\n",
      " 2.25328544e+03 2.08589257e+03 1.39259006e+03 3.68746830e+03\n",
      " 3.01166488e+02 1.11355805e+03 2.13933308e+03 4.60790547e+03\n",
      " 1.19005651e+04 7.78292939e+02 1.46454904e+03 7.27082446e+03\n",
      " 1.60443134e+03 4.33388011e+03 6.28354918e+03 1.48271682e+02\n",
      " 5.16115334e+03 1.40345517e+03 1.01320776e+03 2.80356384e+03\n",
      " 5.67621923e+02 7.89515276e+03 5.11687074e+03 4.88424888e+03\n",
      " 1.20380892e+03 1.65170732e+03 6.94039722e+02 3.85929246e+02\n",
      " 9.14337907e+02 1.13766238e+03 4.89751436e+02 3.15976162e+03\n",
      " 3.48419582e+03 7.88100772e+02 2.80645062e+02 4.47975275e+03\n",
      " 1.45084680e+03 8.32588767e+03 2.19405053e+03 1.24584232e+03\n",
      " 1.18520684e+03 4.89563999e+03 1.66166536e+03 9.42556569e+03\n",
      " 5.57621946e+02 3.18871489e+03 2.42051049e+03 4.75616054e+03\n",
      " 6.30011151e+03 4.86497564e+03 5.10459978e+03 2.55978839e+03\n",
      " 1.42363078e+03 2.46655512e+03 5.72685217e+03 1.96454494e+03\n",
      " 6.37665130e+02 4.72005906e+02 3.44559806e+03 9.56680981e+00\n",
      " 1.76347216e+02 3.99137146e+03 5.10732898e+01 9.84605938e+01\n",
      " 1.16282211e+03 1.93678290e+03 3.23664491e+03 2.97069658e+03\n",
      " 4.22756145e+03 6.47548991e+01 5.95859090e+03 9.51301224e+02\n",
      " 2.05383615e+02 6.68212945e+03 3.33947646e+03 3.81958370e+03\n",
      " 6.22821284e+03 4.24491189e+03 2.73009235e+03 4.06634577e+02\n",
      " 4.13007962e+03 1.69202534e+03 1.55513361e+02 8.87913695e+01\n",
      " 9.07545525e+02 5.55619323e+02 4.85322226e+03 2.44852471e+03\n",
      " 1.42849737e+03 4.58518254e+03 2.33782412e+02 3.78909245e+02\n",
      " 2.97930253e+03 2.90651470e+03 1.12203033e+03 3.40592373e+03\n",
      " 8.80246700e+02 1.80323455e+03 1.28830684e+03 3.99465758e+03\n",
      " 1.98163931e+03 2.74962147e+03 7.40748133e+02 2.15399113e+03\n",
      " 5.68428046e+03 2.60357441e+03 3.67827066e+02 8.31601285e+03\n",
      " 3.81888727e+01 4.81801514e+03 3.86296316e+03 2.55464894e+03\n",
      " 2.28526962e+03 2.47027676e+03 3.07938710e+03 3.20238475e+02\n",
      " 2.49195248e+03 2.68563074e+03 3.23548953e+03 4.36037264e+02\n",
      " 1.47920281e+03 5.60387444e+03 1.23919004e+03 2.49464836e+03\n",
      " 1.04899845e+02 4.79326283e+02 4.96362479e+03 2.49554689e+02\n",
      " 3.13147250e+03 9.44789235e+02 3.59606183e+02 3.37134747e+03\n",
      " 2.02259715e+03 4.46690782e+03 1.54420670e+03 2.86280388e+02\n",
      " 7.80574956e+01 1.53803303e+03 2.44651771e+03 3.72615336e+03\n",
      " 6.13977607e+03 7.45893866e+02 3.54755281e+03 2.71005271e+02\n",
      " 8.44284915e+03 4.67091540e+03 3.35247196e+03 3.75390409e+03\n",
      " 1.94380865e+03 4.33654759e+03 2.20027920e+03 1.66825585e+03\n",
      " 1.00532354e+04 2.54043671e+03 1.15362550e+03 9.14214039e+02\n",
      " 2.04843574e+03 1.32244262e+03 3.57420391e+03 6.00075833e+03\n",
      " 4.42715406e+03 7.93623673e+03 2.41247516e+03 1.40399500e+02\n",
      " 2.71217845e+03 1.29240163e+03 6.24521849e+03 2.15607666e+03\n",
      " 6.28311631e+02 1.57769948e+03 9.14777490e+01 2.12827772e+03\n",
      " 2.78426274e+03 7.08368275e+02 1.87389142e+03 7.24254174e+03\n",
      " 7.01632197e+01 3.15366507e+02 7.35359598e+03 5.30998020e+02\n",
      " 2.64347357e+02 5.01506277e+02 3.26726606e+03 1.94526624e+03\n",
      " 3.69900830e+03 9.87253358e+03 2.82101843e+03 2.54134042e+03\n",
      " 1.57620322e+03 2.44518467e+03 4.43067877e+03 3.52054215e+03\n",
      " 3.47950956e+02 3.87727161e+02 5.67824127e+02 9.11881618e+02\n",
      " 1.27489851e+02 2.32133852e+03 6.42508718e+03 5.55278378e+02\n",
      " 1.85103459e+03 1.48976985e+03 2.05571170e+02 9.13868219e+02\n",
      " 4.40460018e+03 3.96442479e+03 4.29773851e+03 1.13587417e+04]\n"
     ]
    }
   ],
   "source": [
    "list_e = np.random.exponential(3029,1000)\n",
    "plt.hist(list_e,bins=8,color='g',edgecolor='b',alpha=0.4)\n",
    "plt.show()\n",
    "print (list_e)"
   ]
  },
  {
   "cell_type": "code",
   "execution_count": 47,
   "metadata": {
    "scrolled": true
   },
   "outputs": [
    {
     "data": {
      "image/png": "[encoded data removed]",
      "text/plain": [
       "<Figure size 432x288 with 1 Axes>"
      ]
     },
     "metadata": {
      "needs_background": "light"
     },
     "output_type": "display_data"
    },
    {
     "name": "stdout",
     "output_type": "stream",
     "text": [
      "[3012 3067 3033 2953 2963 3036 3050 2989 3037 2993 3074 3172 3106 2941\n",
      " 3030 3107 3005 3050 2991 3055 2978 3013 3024 2983 2989 2988 3099 3024\n",
      " 3043 3140 3011 2974 3109 2979 3012 3041 3063 3000 3053 3121 2921 2963\n",
      " 3002 2951 2953 2970 3091 3150 3028 3077 3002 2926 3074 3027 2982 3053\n",
      " 2934 3115 2988 3052 2968 3095 3063 3049 2989 3081 3033 3079 3068 3009\n",
      " 3112 3064 3017 3063 3057 3006 3056 2962 3033 3105 3084 2968 2958 3166\n",
      " 2933 3053 3020 3004 2956 2987 3052 3046 2954 3052 3027 3036 3020 2937\n",
      " 2912 3000 2889 3002 3113 3087 3037 3058 3034 3079 3038 2994 3021 3097\n",
      " 2981 2941 3070 2969 3027 3040 3027 3068 2907 3044 3000 2976 2988 3040\n",
      " 3035 3027 3058 3059 2959 3063 3017 3022 3039 3033 3011 2951 3004 3002\n",
      " 3041 3021 3023 2990 3030 3101 2985 3036 2979 3016 3098 2997 3076 3000\n",
      " 3143 3103 3083 3077 3013 2990 2948 3045 3047 3052 3053 2996 2975 3000\n",
      " 3114 2994 2947 3032 3053 3073 3035 3079 3046 3001 3018 3108 3007 2971\n",
      " 3037 3054 3115 3044 3065 3005 3041 3001 3058 3109 3143 2988 3019 3087\n",
      " 3101 2988 2992 3065 3055 3102 3087 3072 3050 2963 3121 2950 3041 3069\n",
      " 3004 3035 3016 3044 3005 3077 3013 3063 3039 3014 3049 3033 3076 3008\n",
      " 2958 3015 2950 2986 3099 3014 3014 3059 3027 2950 2988 3056 3008 3034\n",
      " 2942 2997 3027 3083 3153 3053 2996 3208 3077 3136 3024 3037 3000 3055\n",
      " 3041 2895 3030 2936 3022 3070 2967 3082 3161 3088 3115 3024 3033 3025\n",
      " 3052 3086 3087 3079 3020 3068 3037 3041 3139 3057 3074 2978 2994 2993\n",
      " 3029 3030 3146 2973 3050 3070 3075 3030 3109 3071 3042 3199 2993 3010\n",
      " 3121 2952 3033 3056 3070 3054 2961 3036 3004 2917 3058 2939 3021 3089\n",
      " 3034 3073 3109 2970 2964 3029 2995 2977 3003 3048 3039 3061 2983 3125\n",
      " 2954 3027 3013 3075 2964 3063 3088 3033 2980 3074 2953 2968 3076 3004\n",
      " 2951 2988 2981 3074 3120 3040 3048 2989 3138 2990 3052 3023 3041 3060\n",
      " 3036 3024 3077 2990 3017 2991 3061 2951 3022 2914 3019 3035 2980 3031\n",
      " 2973 3001 3016 3042 2932 3019 3050 3009 3062 3117 3011 3001 3009 3116\n",
      " 3038 3130 3131 3018 2999 2959 3028 3078 3013 2969 3083 3017 2960 3102\n",
      " 3061 3075 3101 2967 3031 3077 3047 3151 3048 2971 2968 3013 3024 3011\n",
      " 3024 3014 3025 3052 2964 3015 3023 2982 3077 2974 3108 2918 2995 2989\n",
      " 3027 3037 3002 2990 3049 3022 2958 3087 3100 3092 3126 3057 3090 3094\n",
      " 2862 3044 3055 3069 3040 2981 2980 3034 2977 3017 3036 3057 3049 2914\n",
      " 3012 3019 3007 2999 2898 3020 3010 3052 3006 3002 2930 3093 2984 2859\n",
      " 2973 2921 3040 3078 2965 3021 3090 3071 3035 3103 2984 3049 2974 3106\n",
      " 3095 2897 3038 2995 2963 3100 3028 2971 3016 2968 2939 3107 3100 3005\n",
      " 3032 3105 2974 3108 3082 3032 2968 3006 3032 2957 2914 3058 2992 3044\n",
      " 3051 2969 2968 3086 2999 3040 3045 2974 3077 3100 2883 3074 3009 3052\n",
      " 3120 2985 3034 3022 3014 3047 3057 3017 3100 2890 3098 2980 3052 3000\n",
      " 3079 3064 3036 3021 3061 3055 3048 3032 3022 3006 2998 3105 3039 3013\n",
      " 2979 3040 2893 3081 3061 3041 3026 2962 3043 2936 2923 3103 3005 3001\n",
      " 3013 2995 3000 3073 3054 3043 2953 2913 3033 3136 3027 3087 3059 2981\n",
      " 3013 3042 2977 3092 3105 3058 2990 3002 3046 2999 2948 3031 3009 3206\n",
      " 3011 3012 3038 2980 2993 2980 3043 3083 2950 3055 3055 3049 3066 3036\n",
      " 3136 3083 3062 3043 3006 3048 2938 3009 3004 3025 3079 3042 3027 2998\n",
      " 2987 3074 2967 2998 2953 2900 3066 2897 3058 3089 3196 3017 3042 2941\n",
      " 2932 3023 3028 3049 3103 3049 2948 2984 2965 2972 3040 3124 3082 3013\n",
      " 3074 3043 3024 3055 3079 3030 3028 3037 3039 2887 3020 3122 3047 3023\n",
      " 3089 3002 3085 3057 2972 2993 2996 3100 3081 3035 2990 3017 3019 3075\n",
      " 3014 2988 3126 3020 3049 3025 3044 3059 3050 2988 2936 2989 3141 3064\n",
      " 3075 3028 3114 3123 3000 2995 3115 3090 3057 3019 3047 2996 3051 3071\n",
      " 2991 2916 3082 3137 2989 2974 2960 2942 2974 3113 3099 3060 2984 2912\n",
      " 3049 3025 2892 3027 2932 3113 3071 3008 3092 3037 2974 2952 3165 3111\n",
      " 2995 2980 3050 3065 3096 3041 3014 3077 2995 3063 2998 3024 3025 3007\n",
      " 2965 2966 2967 3051 3059 3071 2917 3091 3037 2988 3022 3051 3081 2961\n",
      " 3132 3128 3056 2967 3073 3035 3016 3075 2862 3175 2996 3022 3079 3088\n",
      " 3084 3030 3055 3055 3133 3130 3056 3036 3087 3144 3005 2988 3067 3129\n",
      " 2944 3066 3108 3029 2999 3074 2944 3008 3004 3042 3086 2975 3094 3162\n",
      " 2976 3007 2927 2993 2947 3065 3075 3011 2968 3116 2960 3045 2988 2986\n",
      " 3113 3003 3084 3010 2921 2971 2978 3138 3048 3146 2982 3017 2918 2941\n",
      " 3002 3096 2912 3120 2995 2967 2956 3009 3002 3075 2988 3005 3034 3041\n",
      " 3079 3151 3072 3018 3010 2902 3044 3057 3041 3067 2972 3103 3031 2967\n",
      " 3026 2891 3095 3058 3011 3065 2963 3027 2929 3072 2972 2975 3079 3039\n",
      " 3100 3034 2975 3003 3133 3120 3096 2978 3007 3138 3030 3054 3041 2971\n",
      " 3012 2970 3110 2947 3053 2994 3022 3051 2975 2927 3064 3019 3019 3094\n",
      " 2978 3022 3096 3043 3044 3000 2968 2959 3000 3105 3108 2980 3016 3150\n",
      " 2994 3064 2899 3062 2979 3059 3072 3035 3045 2998 3024 3083 3069 3061\n",
      " 3060 3071 2961 3099 2985 3008 3056 3050 3018 2922 3100 3131 3003 2938\n",
      " 3102 3026 3049 3049 3036 3066 3025 3027 2910 3071 3071 3121 2977 2947\n",
      " 2942 3053 3036 3044 2951 3021 3100 3132 3075 3031 2998 3039 3117 3061\n",
      " 3062 2980 2987 3018 3039 3098 3086 2996 2954 3092 3048 3035 3071 2999\n",
      " 3126 3003 3036 3005 3065 3043 2978 3051 3055 2999 3082 3078 2997 3110\n",
      " 2999 3010 3013 2991 3085 2921]\n"
     ]
    }
   ],
   "source": [
    "list_e = np.random.poisson(3029,1000)\n",
    "plt.hist(list_e,bins=8,color='g',edgecolor='b',alpha=0.4)\n",
    "plt.show()\n",
    "print (list_e)"
   ]
  },
  {
   "cell_type": "code",
   "execution_count": null,
   "metadata": {},
   "outputs": [],
   "source": []
  }
 ],
 "metadata": {
  "kernelspec": {
   "display_name": "Python 3",
   "language": "python",
   "name": "python3"
  },
  "language_info": {
   "codemirror_mode": {
    "name": "ipython",
    "version": 3
   },
   "file_extension": ".py",
   "mimetype": "text/x-python",
   "name": "python",
   "nbconvert_exporter": "python",
   "pygments_lexer": "ipython3",
   "version": "3.6.8"
  }
 },
 "nbformat": 4,
 "nbformat_minor": 2
}
